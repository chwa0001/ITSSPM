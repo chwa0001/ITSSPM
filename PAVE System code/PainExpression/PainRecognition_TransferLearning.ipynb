{
  "cells": [
    {
      "cell_type": "code",
      "execution_count": null,
      "metadata": {
        "colab": {
          "base_uri": "https://localhost:8080/"
        },
        "id": "4eYMdwYUEEs0",
        "outputId": "8ab2d94e-150a-4fa4-fc12-e39beb8b4ecb"
      },
      "outputs": [
        {
          "output_type": "stream",
          "name": "stdout",
          "text": [
            "Mounted at /content/drive\n",
            " dataset\n",
            " DelawarePainDatabase_StimulusCharacterization_forOSF.xlsx\n",
            " FaceDetection_CNN_classification.ipynb\n",
            " FaceDetection_CNN_Regression_2022_04_01_06_24_08.ipynb\n",
            " FaceDetection_CNN_Regression_2022_04_01_16_23_41.ipynb\n",
            " FaceDetection_CNN_Regression_2022_04_04_16_23_41.ipynb\n",
            " FaceDetection_CNN_Regression_2022_04_09.ipynb\n",
            " FaceDetection_CNN_Regression_TransferLearning_2022_04_09.ipynb\n",
            " FaceDetection_CNN_Regression_TransferLearning_2022_05_12.ipynb\n",
            " FaceDetection_CNN_Regression_TransferLearning.ipynb\n",
            " FaceDetection_CNN_Regression_TransferLearning_withVideoDataframe.ipynb\n",
            " FaceDetection_haar.ipynb\n",
            " FaceDetection.ipynb\n",
            " faceexp-comparison-data-test-public.csv\n",
            " PainRecognition_CNN_Regression.ipynb\n",
            " PainRecognition_TransferLearning.ipynb\n",
            " training\n",
            "'Video Processing2.ipynb'\n",
            "'Video Processing.ipynb'\n"
          ]
        }
      ],
      "source": [
        "from google.colab import drive\n",
        "drive.mount('/content/drive')\n",
        "\n",
        "# Change working directory to be current folder\n",
        "import os\n",
        "os.chdir('/content/drive/MyDrive/MyColab/ISSMPM')\n",
        "!ls"
      ]
    },
    {
      "cell_type": "code",
      "execution_count": null,
      "metadata": {
        "colab": {
          "base_uri": "https://localhost:8080/"
        },
        "id": "0zls7u0hKrvU",
        "outputId": "1789fdee-0c4a-4e4c-cdd1-2e32352e7d81"
      },
      "outputs": [
        {
          "output_type": "stream",
          "name": "stdout",
          "text": [
            "Collecting mediapipe\n",
            "  Downloading mediapipe-0.8.10-cp37-cp37m-manylinux_2_17_x86_64.manylinux2014_x86_64.whl (32.8 MB)\n",
            "\u001b[K     |████████████████████████████████| 32.8 MB 228 kB/s \n",
            "\u001b[?25hRequirement already satisfied: attrs>=19.1.0 in /usr/local/lib/python3.7/dist-packages (from mediapipe) (21.4.0)\n",
            "Requirement already satisfied: absl-py in /usr/local/lib/python3.7/dist-packages (from mediapipe) (1.0.0)\n",
            "Requirement already satisfied: matplotlib in /usr/local/lib/python3.7/dist-packages (from mediapipe) (3.2.2)\n",
            "Requirement already satisfied: numpy in /usr/local/lib/python3.7/dist-packages (from mediapipe) (1.21.6)\n",
            "Requirement already satisfied: opencv-contrib-python in /usr/local/lib/python3.7/dist-packages (from mediapipe) (4.1.2.30)\n",
            "Requirement already satisfied: protobuf>=3.11.4 in /usr/local/lib/python3.7/dist-packages (from mediapipe) (3.17.3)\n",
            "Requirement already satisfied: six>=1.9 in /usr/local/lib/python3.7/dist-packages (from protobuf>=3.11.4->mediapipe) (1.15.0)\n",
            "Requirement already satisfied: kiwisolver>=1.0.1 in /usr/local/lib/python3.7/dist-packages (from matplotlib->mediapipe) (1.4.2)\n",
            "Requirement already satisfied: pyparsing!=2.0.4,!=2.1.2,!=2.1.6,>=2.0.1 in /usr/local/lib/python3.7/dist-packages (from matplotlib->mediapipe) (3.0.9)\n",
            "Requirement already satisfied: python-dateutil>=2.1 in /usr/local/lib/python3.7/dist-packages (from matplotlib->mediapipe) (2.8.2)\n",
            "Requirement already satisfied: cycler>=0.10 in /usr/local/lib/python3.7/dist-packages (from matplotlib->mediapipe) (0.11.0)\n",
            "Requirement already satisfied: typing-extensions in /usr/local/lib/python3.7/dist-packages (from kiwisolver>=1.0.1->matplotlib->mediapipe) (4.2.0)\n",
            "Installing collected packages: mediapipe\n",
            "Successfully installed mediapipe-0.8.10\n"
          ]
        }
      ],
      "source": [
        "#installation of mediapipe library\n",
        "!pip install mediapipe"
      ]
    },
    {
      "cell_type": "code",
      "execution_count": null,
      "metadata": {
        "colab": {
          "base_uri": "https://localhost:8080/"
        },
        "id": "DRDEnDnXP3jP",
        "outputId": "f1d842b6-a8b2-4c0b-ecd9-3c07afdf0bb1"
      },
      "outputs": [
        {
          "output_type": "stream",
          "name": "stdout",
          "text": [
            "Versions of key libraries\n",
            "---\n",
            "tensorflow:  2.8.0\n",
            "numpy:       1.21.6\n",
            "matplotlib:  3.2.2\n",
            "sklearn:     1.0.2\n"
          ]
        }
      ],
      "source": [
        "#import library required\n",
        "import cv2\n",
        "import os\n",
        "import numpy as np\n",
        "import random\n",
        "import pandas as pd\n",
        "import matplotlib\n",
        "import matplotlib.pyplot as plt\n",
        "%matplotlib inline\n",
        "from sklearn.preprocessing import LabelBinarizer\n",
        "from tensorflow.keras.callbacks import ModelCheckpoint,CSVLogger\n",
        "from tensorflow.keras.applications import ResNet50\n",
        "from tensorflow.keras.applications.resnet50 import preprocess_input\n",
        "from tensorflow.keras.preprocessing import image\n",
        "from tensorflow.keras.optimizers import SGD\n",
        "from tensorflow.keras.layers import AveragePooling2D\n",
        "from tensorflow.keras.models import Model\n",
        "from tensorflow.keras.layers import Flatten, Dense, Input,Dropout,Conv2D,MaxPooling2D,BatchNormalization,Activation\n",
        "from tensorflow.keras.utils import to_categorical,plot_model\n",
        "from tensorflow.keras import optimizers,regularizers\n",
        "import sklearn\n",
        "from sklearn.model_selection import train_test_split\n",
        "import datetime as dt\n",
        "\n",
        "import tensorflow as tf\n",
        "from google.colab.patches import cv2_imshow\n",
        "import mediapipe as mp\n",
        "import imutils\n",
        "import pickle\n",
        "\n",
        "print(\"Versions of key libraries\")\n",
        "print(\"---\")\n",
        "print(\"tensorflow: \", tf.__version__)\n",
        "print(\"numpy:      \", np.__version__)\n",
        "print(\"matplotlib: \", matplotlib.__version__)\n",
        "print(\"sklearn:    \", sklearn.__version__)"
      ]
    },
    {
      "cell_type": "code",
      "execution_count": null,
      "metadata": {
        "id": "n5bNLwbxt9IH",
        "colab": {
          "base_uri": "https://localhost:8080/"
        },
        "outputId": "7a444863-8724-4f0f-d5ab-290ec6370dcf"
      },
      "outputs": [
        {
          "output_type": "stream",
          "name": "stdout",
          "text": [
            "The mean square error is 0.38631193620628423\n"
          ]
        }
      ],
      "source": [
        "#Load the predicted pain expression of the video withSpec_nopain_incorrectpose provided by the CNN Regression model\n",
        "with open('/content/drive/MyDrive/MyColab/ISSMPM/training/withSpec_nopain_incorrectpose_CNNRegression.pkl', \"rb\") as f:\n",
        "  withSpec_nopain_incorrectpose_predicts = pickle.load(f)\n",
        "#Load the predicted pain expression of the video withSpec_pain_correctpose provided by the CNN Regression model\n",
        "with open('/content/drive/MyDrive/MyColab/ISSMPM/training/withSpec_pain_correctpose_CNNRegression.pkl', \"rb\") as f:\n",
        "  withSpec_pain_correctpose_predicts = pickle.load(f)\n",
        "#Check the mean square error predicted on the CNN Regression model on the testing dataset\n",
        "print(f\"The mean square error is {withSpec_pain_correctpose_predicts.get('mean')}\") if withSpec_pain_correctpose_predicts.get('mean')==withSpec_nopain_incorrectpose_predicts.get('mean') else print()"
      ]
    },
    {
      "cell_type": "code",
      "execution_count": null,
      "metadata": {
        "colab": {
          "base_uri": "https://localhost:8080/",
          "height": 298
        },
        "id": "38Qq8LLIuf_2",
        "outputId": "5af1fd24-d5c8-4daa-8a63-11a6258c5bec"
      },
      "outputs": [
        {
          "output_type": "execute_result",
          "data": {
            "text/plain": [
              "Text(0.5, 1.0, 'Pain Expression with no pain face')"
            ]
          },
          "metadata": {},
          "execution_count": 5
        },
        {
          "output_type": "display_data",
          "data": {
            "text/plain": [
              "<Figure size 432x288 with 1 Axes>"
            ],
            "image/png": "[encoded data removed]"
          },
          "metadata": {
            "needs_background": "light"
          }
        }
      ],
      "source": [
        "#deduct the root mean square error on all the predicted pain expression of the no pain face on the video frames(withSpec_nopain_incorrectpose), they are considered as the expected pain expression\n",
        "import math\n",
        "expected_withSpec_nopain_incorrectpose_predicts = [(face,predicts[0]-math.sqrt(withSpec_nopain_incorrectpose_predicts.get('mean'))) for face,predicts in withSpec_nopain_incorrectpose_predicts.get('data')] \n",
        "plt.figure()\n",
        "plt.plot([ value[1] for value in expected_withSpec_nopain_incorrectpose_predicts], label=\"reg_nopain\")\n",
        "plt.title('Pain Expression with no pain face',fontsize=12)\n",
        "\n"
      ]
    },
    {
      "cell_type": "code",
      "execution_count": null,
      "metadata": {
        "colab": {
          "base_uri": "https://localhost:8080/",
          "height": 298
        },
        "id": "bd8y4t9uwv8B",
        "outputId": "45f79a35-810a-4c57-e724-e82e6c70623a"
      },
      "outputs": [
        {
          "output_type": "execute_result",
          "data": {
            "text/plain": [
              "Text(0.5, 1.0, 'Pain Expression with pain face')"
            ]
          },
          "metadata": {},
          "execution_count": 6
        },
        {
          "output_type": "display_data",
          "data": {
            "text/plain": [
              "<Figure size 432x288 with 1 Axes>"
            ],
            "image/png": "[encoded data removed]"
          },
          "metadata": {
            "needs_background": "light"
          }
        }
      ],
      "source": [
        "#add the root mean square error on all the predicted pain expression of the pain face on the video frames(withSpec_pain_correctpose), they are considered as the expected pain expression\n",
        "expected_withSpec_pain_correctpose_predicts = [(face,predicts[0]+math.sqrt(withSpec_pain_correctpose_predicts.get('mean'))) for face,predicts in withSpec_pain_correctpose_predicts.get('data')] \n",
        "plt.figure()\n",
        "plt.plot([ value[1] for value in expected_withSpec_pain_correctpose_predicts], label=\"reg_pain\")\n",
        "plt.title('Pain Expression with pain face',fontsize=12)"
      ]
    },
    {
      "cell_type": "code",
      "source": [
        "#We use randomSample to pick 90 sample from the lists.\n",
        "randomSample = 90\n",
        "\n",
        "# from the plot of the graph, we observe that the pain intensity lower than 2.8 will be considered as no pain face\n",
        "NoPainFaceFromSelfVideo = random.sample([(f'SelfNoPainFace{index}',value[0],value[1]) for index, value in enumerate(expected_withSpec_nopain_incorrectpose_predicts) if value[1]<2.8],randomSample)\n",
        "\n",
        "# from the plot of the graph, we observe that the pain intensity greater than 3.8 will be considered as pain face\n",
        "PainFaceFromSelfVideo = random.sample([(f'SelfPainFace{index}',value[0],value[1]) for index, value in enumerate(expected_withSpec_pain_correctpose_predicts) if value[1]>3.8],randomSample)\n",
        "del withSpec_pain_correctpose_predicts,withSpec_nopain_incorrectpose_predicts,expected_withSpec_nopain_incorrectpose_predicts,expected_withSpec_pain_correctpose_predicts"
      ],
      "metadata": {
        "id": "8HMKv-SZm214"
      },
      "execution_count": null,
      "outputs": []
    },
    {
      "cell_type": "code",
      "execution_count": null,
      "metadata": {
        "colab": {
          "base_uri": "https://localhost:8080/",
          "height": 241
        },
        "id": "w2GjvdLJEgDd",
        "outputId": "9d67fd8b-827f-46b7-96bf-e1c0d6fd3090"
      },
      "outputs": [
        {
          "output_type": "stream",
          "name": "stderr",
          "text": [
            "/usr/local/lib/python3.7/dist-packages/openpyxl/worksheet/_reader.py:312: UserWarning: Unknown extension is not supported and will be removed\n",
            "  warn(msg)\n"
          ]
        },
        {
          "output_type": "execute_result",
          "data": {
            "text/plain": [
              "           Target Pain_Expression Expession_Highest\n",
              "0  DPD_1_WM34_p5c       5.9555556              pain\n",
              "1  DPD_1_WM39_p5c            5.82              pain\n",
              "2   DPD_1_OF8_p4c       2.0487805               sad\n",
              "3  DPD_1_AF12_p4c       2.2857143         surprised\n",
              "4  DPD_1_AF12_p6c       2.6428571               sad"
            ],
            "text/html": [
              "\n",
              "  <div id=\"df-8e1acd03-cac3-494d-8735-43eb59a883a6\">\n",
              "    <div class=\"colab-df-container\">\n",
              "      <div>\n",
              "<style scoped>\n",
              "    .dataframe tbody tr th:only-of-type {\n",
              "        vertical-align: middle;\n",
              "    }\n",
              "\n",
              "    .dataframe tbody tr th {\n",
              "        vertical-align: top;\n",
              "    }\n",
              "\n",
              "    .dataframe thead th {\n",
              "        text-align: right;\n",
              "    }\n",
              "</style>\n",
              "<table border=\"1\" class=\"dataframe\">\n",
              "  <thead>\n",
              "    <tr style=\"text-align: right;\">\n",
              "      <th></th>\n",
              "      <th>Target</th>\n",
              "      <th>Pain_Expression</th>\n",
              "      <th>Expession_Highest</th>\n",
              "    </tr>\n",
              "  </thead>\n",
              "  <tbody>\n",
              "    <tr>\n",
              "      <th>0</th>\n",
              "      <td>DPD_1_WM34_p5c</td>\n",
              "      <td>5.9555556</td>\n",
              "      <td>pain</td>\n",
              "    </tr>\n",
              "    <tr>\n",
              "      <th>1</th>\n",
              "      <td>DPD_1_WM39_p5c</td>\n",
              "      <td>5.82</td>\n",
              "      <td>pain</td>\n",
              "    </tr>\n",
              "    <tr>\n",
              "      <th>2</th>\n",
              "      <td>DPD_1_OF8_p4c</td>\n",
              "      <td>2.0487805</td>\n",
              "      <td>sad</td>\n",
              "    </tr>\n",
              "    <tr>\n",
              "      <th>3</th>\n",
              "      <td>DPD_1_AF12_p4c</td>\n",
              "      <td>2.2857143</td>\n",
              "      <td>surprised</td>\n",
              "    </tr>\n",
              "    <tr>\n",
              "      <th>4</th>\n",
              "      <td>DPD_1_AF12_p6c</td>\n",
              "      <td>2.6428571</td>\n",
              "      <td>sad</td>\n",
              "    </tr>\n",
              "  </tbody>\n",
              "</table>\n",
              "</div>\n",
              "      <button class=\"colab-df-convert\" onclick=\"convertToInteractive('df-8e1acd03-cac3-494d-8735-43eb59a883a6')\"\n",
              "              title=\"Convert this dataframe to an interactive table.\"\n",
              "              style=\"display:none;\">\n",
              "        \n",
              "  <svg xmlns=\"http://www.w3.org/2000/svg\" height=\"24px\"viewBox=\"0 0 24 24\"\n",
              "       width=\"24px\">\n",
              "    <path d=\"M0 0h24v24H0V0z\" fill=\"none\"/>\n",
              "    <path d=\"M18.56 5.44l.94 2.06.94-2.06 2.06-.94-2.06-.94-.94-2.06-.94 2.06-2.06.94zm-11 1L8.5 8.5l.94-2.06 2.06-.94-2.06-.94L8.5 2.5l-.94 2.06-2.06.94zm10 10l.94 2.06.94-2.06 2.06-.94-2.06-.94-.94-2.06-.94 2.06-2.06.94z\"/><path d=\"M17.41 7.96l-1.37-1.37c-.4-.4-.92-.59-1.43-.59-.52 0-1.04.2-1.43.59L10.3 9.45l-7.72 7.72c-.78.78-.78 2.05 0 2.83L4 21.41c.39.39.9.59 1.41.59.51 0 1.02-.2 1.41-.59l7.78-7.78 2.81-2.81c.8-.78.8-2.07 0-2.86zM5.41 20L4 18.59l7.72-7.72 1.47 1.35L5.41 20z\"/>\n",
              "  </svg>\n",
              "      </button>\n",
              "      \n",
              "  <style>\n",
              "    .colab-df-container {\n",
              "      display:flex;\n",
              "      flex-wrap:wrap;\n",
              "      gap: 12px;\n",
              "    }\n",
              "\n",
              "    .colab-df-convert {\n",
              "      background-color: #E8F0FE;\n",
              "      border: none;\n",
              "      border-radius: 50%;\n",
              "      cursor: pointer;\n",
              "      display: none;\n",
              "      fill: #1967D2;\n",
              "      height: 32px;\n",
              "      padding: 0 0 0 0;\n",
              "      width: 32px;\n",
              "    }\n",
              "\n",
              "    .colab-df-convert:hover {\n",
              "      background-color: #E2EBFA;\n",
              "      box-shadow: 0px 1px 2px rgba(60, 64, 67, 0.3), 0px 1px 3px 1px rgba(60, 64, 67, 0.15);\n",
              "      fill: #174EA6;\n",
              "    }\n",
              "\n",
              "    [theme=dark] .colab-df-convert {\n",
              "      background-color: #3B4455;\n",
              "      fill: #D2E3FC;\n",
              "    }\n",
              "\n",
              "    [theme=dark] .colab-df-convert:hover {\n",
              "      background-color: #434B5C;\n",
              "      box-shadow: 0px 1px 3px 1px rgba(0, 0, 0, 0.15);\n",
              "      filter: drop-shadow(0px 1px 2px rgba(0, 0, 0, 0.3));\n",
              "      fill: #FFFFFF;\n",
              "    }\n",
              "  </style>\n",
              "\n",
              "      <script>\n",
              "        const buttonEl =\n",
              "          document.querySelector('#df-8e1acd03-cac3-494d-8735-43eb59a883a6 button.colab-df-convert');\n",
              "        buttonEl.style.display =\n",
              "          google.colab.kernel.accessAllowed ? 'block' : 'none';\n",
              "\n",
              "        async function convertToInteractive(key) {\n",
              "          const element = document.querySelector('#df-8e1acd03-cac3-494d-8735-43eb59a883a6');\n",
              "          const dataTable =\n",
              "            await google.colab.kernel.invokeFunction('convertToInteractive',\n",
              "                                                     [key], {});\n",
              "          if (!dataTable) return;\n",
              "\n",
              "          const docLinkHtml = 'Like what you see? Visit the ' +\n",
              "            '<a target=\"_blank\" href=https://colab.research.google.com/notebooks/data_table.ipynb>data table notebook</a>'\n",
              "            + ' to learn more about interactive tables.';\n",
              "          element.innerHTML = '';\n",
              "          dataTable['output_type'] = 'display_data';\n",
              "          await google.colab.output.renderOutput(dataTable, element);\n",
              "          const docLink = document.createElement('div');\n",
              "          docLink.innerHTML = docLinkHtml;\n",
              "          element.appendChild(docLink);\n",
              "        }\n",
              "      </script>\n",
              "    </div>\n",
              "  </div>\n",
              "  "
            ]
          },
          "metadata": {},
          "execution_count": 8
        }
      ],
      "source": [
        "\"\"\"\n",
        "import Delaware pain database which provided a set of painful expressions and corresponding norming data\n",
        "\n",
        "Refer to the link: https://psyarxiv.com/kjez5/\n",
        "Target: naming convention described in read-me file.\n",
        "\n",
        "Expression_Highest: Categorical variable representing the highest average emotion rating (e.g., from \"Fear_Expression\" to \"Pain_Expression\"); for example, if a given expression had an average \"Anger_Expression\" rating of 4.00, and all other ratings from \"Fear_Expression\" to \"Pain_Expression\" were 2.00, that stimulis would have a value of \"anger\" for \"Expression_Highest\"\n",
        "\n",
        "Pain_Expression: Average rating of pain for a given expression made by a particular target; 1 (\"not at all\") to 7 (\"extremely\") scale, in response to \"How much does this face look like it's in pain?\"\n",
        "\n",
        "The CNN model will be trained to predict the pain expression of the face in the self-recorded video.\n",
        "\"\"\"\n",
        "\n",
        "usecols=['Target','Expession_Highest','Pain_Expression']\n",
        "colType=['string','string','string']\n",
        "dtypeDF = dict(zip(usecols,colType))\n",
        "normingData = pd.read_excel('DelawarePainDatabase_StimulusCharacterization_forOSF.xlsx','DPD_NormingData',dtype=dtypeDF,usecols=usecols)\n",
        "normingData.head()"
      ]
    },
    {
      "cell_type": "code",
      "execution_count": null,
      "metadata": {
        "id": "AMS-hrLnhNN2"
      },
      "outputs": [],
      "source": [
        "#filter out no facial expression\n",
        "painNormingData = normingData[normingData['Expession_Highest']=='pain']\n",
        "nonePainNormingData = normingData[(normingData['Expession_Highest']!='.') & (normingData['Expession_Highest']!='pain')][:272]\n",
        "normingData = pd.concat([painNormingData,nonePainNormingData]).sort_index()"
      ]
    },
    {
      "cell_type": "code",
      "execution_count": null,
      "metadata": {
        "colab": {
          "base_uri": "https://localhost:8080/"
        },
        "id": "iK1TwYtRq52E",
        "outputId": "005e70b8-7660-4ff1-e655-f150ec395609"
      },
      "outputs": [
        {
          "output_type": "execute_result",
          "data": {
            "text/plain": [
              "count    544.000000\n",
              "mean       3.350831\n",
              "std        1.094587\n",
              "min        1.150000\n",
              "25%        2.424689\n",
              "50%        3.339394\n",
              "75%        4.195255\n",
              "max        5.955556\n",
              "Name: Pain_Expression, dtype: float64"
            ]
          },
          "metadata": {},
          "execution_count": 10
        }
      ],
      "source": [
        "#Convert pain expression to float\n",
        "def is_number_tryexcept(s):\n",
        "    \"\"\" Returns True is string is a number. \"\"\"\n",
        "    try:\n",
        "        float(s)\n",
        "        return True\n",
        "    except ValueError:\n",
        "        return False\n",
        "filterNormingData = normingData[normingData['Pain_Expression'].apply(is_number_tryexcept)].astype({'Pain_Expression':'float'})\n",
        "filterNormingData['Pain_Expression'].describe()"
      ]
    },
    {
      "cell_type": "code",
      "execution_count": null,
      "metadata": {
        "id": "6-2gtDLTPjJ_"
      },
      "outputs": [],
      "source": [
        "#Define variable to store image list\n",
        "image_file_list = sorted(os.listdir('dataset'))\n",
        "dfImageList = filterNormingData[(filterNormingData['Target']+'.JPG').isin(image_file_list)]\n",
        "Pain_Class = dfImageList['Expession_Highest']\n",
        "Pain_Expression = dfImageList['Pain_Expression']\n",
        "expression_image_list = list(dfImageList['Target']+'.JPG')\n",
        "neutral_image_list = [imagedir for imagedir in  image_file_list if imagedir not in list(filterNormingData['Target']+'.JPG')]\n",
        "del normingData,filterNormingData, dfImageList,painNormingData,nonePainNormingData"
      ]
    },
    {
      "cell_type": "code",
      "execution_count": null,
      "metadata": {
        "colab": {
          "base_uri": "https://localhost:8080/"
        },
        "id": "hp42YSwbEYi_",
        "outputId": "74c6653a-9900-4a39-afd0-a1040620f105"
      },
      "outputs": [
        {
          "output_type": "stream",
          "name": "stdout",
          "text": [
            "10 images are processed!\n",
            "20 images are processed!\n",
            "30 images are processed!\n",
            "40 images are processed!\n",
            "50 images are processed!\n",
            "60 images are processed!\n",
            "70 images are processed!\n",
            "80 images are processed!\n",
            "90 images are processed!\n",
            "100 images are processed!\n",
            "110 images are processed!\n",
            "120 images are processed!\n",
            "130 images are processed!\n",
            "140 images are processed!\n",
            "150 images are processed!\n",
            "160 images are processed!\n",
            "170 images are processed!\n",
            "180 images are processed!\n",
            "190 images are processed!\n",
            "200 images are processed!\n",
            "210 images are processed!\n",
            "220 images are processed!\n",
            "230 images are processed!\n",
            "240 images are processed!\n",
            "250 images are processed!\n",
            "260 images are processed!\n",
            "270 images are processed!\n",
            "280 images are processed!\n",
            "290 images are processed!\n",
            "300 images are processed!\n",
            "310 images are processed!\n",
            "320 images are processed!\n",
            "330 images are processed!\n",
            "340 images are processed!\n",
            "350 images are processed!\n",
            "360 images are processed!\n",
            "370 images are processed!\n",
            "380 images are processed!\n",
            "390 images are processed!\n",
            "400 images are processed!\n",
            "410 images are processed!\n",
            "420 images are processed!\n",
            "430 images are processed!\n"
          ]
        }
      ],
      "source": [
        "#Use Medipipe Face Detection Pretained Model to execute Face Detection and crop out the face from the image list\n",
        "mp_face_detection = mp.solutions.face_detection\n",
        "image_Morethan1Detection = []\n",
        "no_face_image = []\n",
        "preproc_img = []\n",
        "\n",
        "#Loop all the file defined in the image list\n",
        "for imageName in expression_image_list:\n",
        "  img = cv2.imread(f'dataset/{imageName}')\n",
        "\n",
        "  with mp_face_detection.FaceDetection(model_selection=1, min_detection_confidence=0.5) as face_detection:\n",
        "\n",
        "    # Convert the BGR image to RGB and process it with MediaPipe Face Detection.\n",
        "    results = face_detection.process(cv2.cvtColor(img, cv2.COLOR_BGR2RGB))\n",
        "\n",
        "    #Skip if there is no face detected.\n",
        "    if not results.detections:\n",
        "      no_face_image.append(imageName)\n",
        "      continue\n",
        "\n",
        "    #Skip if there are multiple faces detected.\n",
        "    if len(results.detections)>1:\n",
        "      image_Morethan1Detection.append(imageName)\n",
        "      continue\n",
        "\n",
        "    #Retrieve the coordination of the face from the result of detection\n",
        "    row, column,channel = img.shape\n",
        "    y = int(results.detections[0].location_data.relative_bounding_box.ymin*row)\n",
        "    h = int(results.detections[0].location_data.relative_bounding_box.height*row)\n",
        "    x = int(results.detections[0].location_data.relative_bounding_box.xmin*column)\n",
        "    w = int(results.detections[0].location_data.relative_bounding_box.width*column)\n",
        "    face = img[y:y + h, x:x + w]\n",
        "\n",
        "    #Resize all the images to 100x100 first amd expand to 224x224. This is because the face detected on the self recorded video has an average size of 100x100 but the input size of the transfer learning model is 224x224\n",
        "    resized = cv2.resize(face, (100, 100))\n",
        "    resized = cv2.resize(resized, (224, 224))\n",
        "\n",
        "    #All te image are converted into grayscale as the pain expression should be color invariant. Stack as three channel to fit the transfer learning model\n",
        "    resized = cv2.cvtColor(resized, cv2.COLOR_BGR2GRAY)\n",
        "    resized = np.dstack((resized,resized,resized))\n",
        "\n",
        "    #Image data is required to be normalized to fit the transfer learning model\n",
        "    preprocessed = preprocess_input(resized)\n",
        "    preproc_img.append((imageName,preprocessed))\n",
        "    if len(preproc_img)%10==0:\n",
        "      print(f'{len(preproc_img)} images are processed!')\n"
      ]
    },
    {
      "cell_type": "code",
      "execution_count": null,
      "metadata": {
        "id": "dBij-RqJ04ru"
      },
      "outputs": [],
      "source": [
        "#Merge the face collected from the video frames with the Delaware pain face images.\n",
        "#All the frames from PainFaceFromSelfVideo are classified as pain while the frames from NoPainFaceFromSelfVideo are classified as no pain\n",
        "\n",
        "mergedPainClass = list(Pain_Class)\n",
        "mergedPainExpression = list(Pain_Expression)\n",
        "for imageName, face, intensity in NoPainFaceFromSelfVideo:\n",
        "  resized = cv2.resize(face, (100, 100))\n",
        "  resized = cv2.resize(resized, (224, 224))\n",
        "  resized = cv2.cvtColor(resized, cv2.COLOR_BGR2GRAY)\n",
        "  resized = np.dstack((resized,resized,resized))\n",
        "  preprocessed = preprocess_input(resized)\n",
        "  preproc_img.append((imageName,preprocessed))\n",
        "  mergedPainClass.append('normal')\n",
        "  mergedPainExpression.append(intensity)\n",
        "for imagename, face, intensity in PainFaceFromSelfVideo:\n",
        "  resized = cv2.resize(face, (100, 100))\n",
        "  resized = cv2.resize(resized, (224, 224))\n",
        "  resized = cv2.cvtColor(resized, cv2.COLOR_BGR2GRAY)\n",
        "  resized = np.dstack((resized,resized,resized))\n",
        "  preprocessed = preprocess_input(resized)\n",
        "  preproc_img.append((imageName,preprocessed))\n",
        "  mergedPainClass.append('pain')\n",
        "  mergedPainExpression.append(intensity)"
      ]
    },
    {
      "cell_type": "code",
      "execution_count": null,
      "metadata": {
        "id": "MUgcq-afpCQR"
      },
      "outputs": [],
      "source": [
        "#Perform image preprocessing to flip the image horizontally and expand the training data\n",
        "flip_preproc_img = [(f'flip_{imageName}',cv2.flip(data,1)) for imageName, data in preproc_img]\n",
        "main_image_list = preproc_img + flip_preproc_img\n",
        "dat = np.array([data for imageName, data in main_image_list]).reshape(-1,224,224,3)\n",
        "\n",
        "#extend the label of the classes as the data has been duplicated after the flip processing\n",
        "class_lbl = mergedPainClass\n",
        "class_lbl.extend(class_lbl)\n",
        "class_lbl = np.array([([0,1] if expression=='pain' else [1,0] ) for expression in class_lbl]).reshape(-1,2)\n",
        "\n",
        "#extend the label of the pain expression as the data has been duplicated after the flip processing\n",
        "reg_lbl = mergedPainExpression\n",
        "reg_lbl.extend(reg_lbl)\n",
        "reg_lbl = np.array(reg_lbl).reshape(-1,1)\n",
        "\n",
        "(X_train, X_test, y_class_train, y_class_test,y_reg_train, y_reg_test) = train_test_split(dat, class_lbl,reg_lbl, test_size=0.25, stratify=class_lbl, random_state=331)\n",
        "del mergedPainClass, mergedPainExpression, Pain_Intensity, Pain_expression,dat, preproc_img,flip_preproc_img, NoPainFaceFromSelfVideo, PainFaceFromSelfVideo, main_image_list"
      ]
    },
    {
      "cell_type": "code",
      "execution_count": null,
      "metadata": {
        "colab": {
          "base_uri": "https://localhost:8080/"
        },
        "id": "AyD7D3xjfanV",
        "outputId": "6ad161f4-b49b-4ab0-c8e0-e8f3aab5cc4f"
      },
      "outputs": [
        {
          "output_type": "stream",
          "name": "stderr",
          "text": [
            "/usr/local/lib/python3.7/dist-packages/keras/optimizer_v2/gradient_descent.py:102: UserWarning: The `lr` argument is deprecated, use `learning_rate` instead.\n",
            "  super(SGD, self).__init__(name, **kwargs)\n"
          ]
        },
        {
          "output_type": "stream",
          "name": "stdout",
          "text": [
            "Model: \"model_4\"\n",
            "__________________________________________________________________________________________________\n",
            " Layer (type)                   Output Shape         Param #     Connected to                     \n",
            "==================================================================================================\n",
            " input_3 (InputLayer)           [(None, 224, 224, 3  0           []                               \n",
            "                                )]                                                                \n",
            "                                                                                                  \n",
            " conv1_pad (ZeroPadding2D)      (None, 230, 230, 3)  0           ['input_3[0][0]']                \n",
            "                                                                                                  \n",
            " conv1_conv (Conv2D)            (None, 112, 112, 64  9472        ['conv1_pad[0][0]']              \n",
            "                                )                                                                 \n",
            "                                                                                                  \n",
            " conv1_bn (BatchNormalization)  (None, 112, 112, 64  256         ['conv1_conv[0][0]']             \n",
            "                                )                                                                 \n",
            "                                                                                                  \n",
            " conv1_relu (Activation)        (None, 112, 112, 64  0           ['conv1_bn[0][0]']               \n",
            "                                )                                                                 \n",
            "                                                                                                  \n",
            " pool1_pad (ZeroPadding2D)      (None, 114, 114, 64  0           ['conv1_relu[0][0]']             \n",
            "                                )                                                                 \n",
            "                                                                                                  \n",
            " pool1_pool (MaxPooling2D)      (None, 56, 56, 64)   0           ['pool1_pad[0][0]']              \n",
            "                                                                                                  \n",
            " conv2_block1_1_conv (Conv2D)   (None, 56, 56, 64)   4160        ['pool1_pool[0][0]']             \n",
            "                                                                                                  \n",
            " conv2_block1_1_bn (BatchNormal  (None, 56, 56, 64)  256         ['conv2_block1_1_conv[0][0]']    \n",
            " ization)                                                                                         \n",
            "                                                                                                  \n",
            " conv2_block1_1_relu (Activatio  (None, 56, 56, 64)  0           ['conv2_block1_1_bn[0][0]']      \n",
            " n)                                                                                               \n",
            "                                                                                                  \n",
            " conv2_block1_2_conv (Conv2D)   (None, 56, 56, 64)   36928       ['conv2_block1_1_relu[0][0]']    \n",
            "                                                                                                  \n",
            " conv2_block1_2_bn (BatchNormal  (None, 56, 56, 64)  256         ['conv2_block1_2_conv[0][0]']    \n",
            " ization)                                                                                         \n",
            "                                                                                                  \n",
            " conv2_block1_2_relu (Activatio  (None, 56, 56, 64)  0           ['conv2_block1_2_bn[0][0]']      \n",
            " n)                                                                                               \n",
            "                                                                                                  \n",
            " conv2_block1_0_conv (Conv2D)   (None, 56, 56, 256)  16640       ['pool1_pool[0][0]']             \n",
            "                                                                                                  \n",
            " conv2_block1_3_conv (Conv2D)   (None, 56, 56, 256)  16640       ['conv2_block1_2_relu[0][0]']    \n",
            "                                                                                                  \n",
            " conv2_block1_0_bn (BatchNormal  (None, 56, 56, 256)  1024       ['conv2_block1_0_conv[0][0]']    \n",
            " ization)                                                                                         \n",
            "                                                                                                  \n",
            " conv2_block1_3_bn (BatchNormal  (None, 56, 56, 256)  1024       ['conv2_block1_3_conv[0][0]']    \n",
            " ization)                                                                                         \n",
            "                                                                                                  \n",
            " conv2_block1_add (Add)         (None, 56, 56, 256)  0           ['conv2_block1_0_bn[0][0]',      \n",
            "                                                                  'conv2_block1_3_bn[0][0]']      \n",
            "                                                                                                  \n",
            " conv2_block1_out (Activation)  (None, 56, 56, 256)  0           ['conv2_block1_add[0][0]']       \n",
            "                                                                                                  \n",
            " conv2_block2_1_conv (Conv2D)   (None, 56, 56, 64)   16448       ['conv2_block1_out[0][0]']       \n",
            "                                                                                                  \n",
            " conv2_block2_1_bn (BatchNormal  (None, 56, 56, 64)  256         ['conv2_block2_1_conv[0][0]']    \n",
            " ization)                                                                                         \n",
            "                                                                                                  \n",
            " conv2_block2_1_relu (Activatio  (None, 56, 56, 64)  0           ['conv2_block2_1_bn[0][0]']      \n",
            " n)                                                                                               \n",
            "                                                                                                  \n",
            " conv2_block2_2_conv (Conv2D)   (None, 56, 56, 64)   36928       ['conv2_block2_1_relu[0][0]']    \n",
            "                                                                                                  \n",
            " conv2_block2_2_bn (BatchNormal  (None, 56, 56, 64)  256         ['conv2_block2_2_conv[0][0]']    \n",
            " ization)                                                                                         \n",
            "                                                                                                  \n",
            " conv2_block2_2_relu (Activatio  (None, 56, 56, 64)  0           ['conv2_block2_2_bn[0][0]']      \n",
            " n)                                                                                               \n",
            "                                                                                                  \n",
            " conv2_block2_3_conv (Conv2D)   (None, 56, 56, 256)  16640       ['conv2_block2_2_relu[0][0]']    \n",
            "                                                                                                  \n",
            " conv2_block2_3_bn (BatchNormal  (None, 56, 56, 256)  1024       ['conv2_block2_3_conv[0][0]']    \n",
            " ization)                                                                                         \n",
            "                                                                                                  \n",
            " conv2_block2_add (Add)         (None, 56, 56, 256)  0           ['conv2_block1_out[0][0]',       \n",
            "                                                                  'conv2_block2_3_bn[0][0]']      \n",
            "                                                                                                  \n",
            " conv2_block2_out (Activation)  (None, 56, 56, 256)  0           ['conv2_block2_add[0][0]']       \n",
            "                                                                                                  \n",
            " conv2_block3_1_conv (Conv2D)   (None, 56, 56, 64)   16448       ['conv2_block2_out[0][0]']       \n",
            "                                                                                                  \n",
            " conv2_block3_1_bn (BatchNormal  (None, 56, 56, 64)  256         ['conv2_block3_1_conv[0][0]']    \n",
            " ization)                                                                                         \n",
            "                                                                                                  \n",
            " conv2_block3_1_relu (Activatio  (None, 56, 56, 64)  0           ['conv2_block3_1_bn[0][0]']      \n",
            " n)                                                                                               \n",
            "                                                                                                  \n",
            " conv2_block3_2_conv (Conv2D)   (None, 56, 56, 64)   36928       ['conv2_block3_1_relu[0][0]']    \n",
            "                                                                                                  \n",
            " conv2_block3_2_bn (BatchNormal  (None, 56, 56, 64)  256         ['conv2_block3_2_conv[0][0]']    \n",
            " ization)                                                                                         \n",
            "                                                                                                  \n",
            " conv2_block3_2_relu (Activatio  (None, 56, 56, 64)  0           ['conv2_block3_2_bn[0][0]']      \n",
            " n)                                                                                               \n",
            "                                                                                                  \n",
            " conv2_block3_3_conv (Conv2D)   (None, 56, 56, 256)  16640       ['conv2_block3_2_relu[0][0]']    \n",
            "                                                                                                  \n",
            " conv2_block3_3_bn (BatchNormal  (None, 56, 56, 256)  1024       ['conv2_block3_3_conv[0][0]']    \n",
            " ization)                                                                                         \n",
            "                                                                                                  \n",
            " conv2_block3_add (Add)         (None, 56, 56, 256)  0           ['conv2_block2_out[0][0]',       \n",
            "                                                                  'conv2_block3_3_bn[0][0]']      \n",
            "                                                                                                  \n",
            " conv2_block3_out (Activation)  (None, 56, 56, 256)  0           ['conv2_block3_add[0][0]']       \n",
            "                                                                                                  \n",
            " conv3_block1_1_conv (Conv2D)   (None, 28, 28, 128)  32896       ['conv2_block3_out[0][0]']       \n",
            "                                                                                                  \n",
            " conv3_block1_1_bn (BatchNormal  (None, 28, 28, 128)  512        ['conv3_block1_1_conv[0][0]']    \n",
            " ization)                                                                                         \n",
            "                                                                                                  \n",
            " conv3_block1_1_relu (Activatio  (None, 28, 28, 128)  0          ['conv3_block1_1_bn[0][0]']      \n",
            " n)                                                                                               \n",
            "                                                                                                  \n",
            " conv3_block1_2_conv (Conv2D)   (None, 28, 28, 128)  147584      ['conv3_block1_1_relu[0][0]']    \n",
            "                                                                                                  \n",
            " conv3_block1_2_bn (BatchNormal  (None, 28, 28, 128)  512        ['conv3_block1_2_conv[0][0]']    \n",
            " ization)                                                                                         \n",
            "                                                                                                  \n",
            " conv3_block1_2_relu (Activatio  (None, 28, 28, 128)  0          ['conv3_block1_2_bn[0][0]']      \n",
            " n)                                                                                               \n",
            "                                                                                                  \n",
            " conv3_block1_0_conv (Conv2D)   (None, 28, 28, 512)  131584      ['conv2_block3_out[0][0]']       \n",
            "                                                                                                  \n",
            " conv3_block1_3_conv (Conv2D)   (None, 28, 28, 512)  66048       ['conv3_block1_2_relu[0][0]']    \n",
            "                                                                                                  \n",
            " conv3_block1_0_bn (BatchNormal  (None, 28, 28, 512)  2048       ['conv3_block1_0_conv[0][0]']    \n",
            " ization)                                                                                         \n",
            "                                                                                                  \n",
            " conv3_block1_3_bn (BatchNormal  (None, 28, 28, 512)  2048       ['conv3_block1_3_conv[0][0]']    \n",
            " ization)                                                                                         \n",
            "                                                                                                  \n",
            " conv3_block1_add (Add)         (None, 28, 28, 512)  0           ['conv3_block1_0_bn[0][0]',      \n",
            "                                                                  'conv3_block1_3_bn[0][0]']      \n",
            "                                                                                                  \n",
            " conv3_block1_out (Activation)  (None, 28, 28, 512)  0           ['conv3_block1_add[0][0]']       \n",
            "                                                                                                  \n",
            " conv3_block2_1_conv (Conv2D)   (None, 28, 28, 128)  65664       ['conv3_block1_out[0][0]']       \n",
            "                                                                                                  \n",
            " conv3_block2_1_bn (BatchNormal  (None, 28, 28, 128)  512        ['conv3_block2_1_conv[0][0]']    \n",
            " ization)                                                                                         \n",
            "                                                                                                  \n",
            " conv3_block2_1_relu (Activatio  (None, 28, 28, 128)  0          ['conv3_block2_1_bn[0][0]']      \n",
            " n)                                                                                               \n",
            "                                                                                                  \n",
            " conv3_block2_2_conv (Conv2D)   (None, 28, 28, 128)  147584      ['conv3_block2_1_relu[0][0]']    \n",
            "                                                                                                  \n",
            " conv3_block2_2_bn (BatchNormal  (None, 28, 28, 128)  512        ['conv3_block2_2_conv[0][0]']    \n",
            " ization)                                                                                         \n",
            "                                                                                                  \n",
            " conv3_block2_2_relu (Activatio  (None, 28, 28, 128)  0          ['conv3_block2_2_bn[0][0]']      \n",
            " n)                                                                                               \n",
            "                                                                                                  \n",
            " conv3_block2_3_conv (Conv2D)   (None, 28, 28, 512)  66048       ['conv3_block2_2_relu[0][0]']    \n",
            "                                                                                                  \n",
            " conv3_block2_3_bn (BatchNormal  (None, 28, 28, 512)  2048       ['conv3_block2_3_conv[0][0]']    \n",
            " ization)                                                                                         \n",
            "                                                                                                  \n",
            " conv3_block2_add (Add)         (None, 28, 28, 512)  0           ['conv3_block1_out[0][0]',       \n",
            "                                                                  'conv3_block2_3_bn[0][0]']      \n",
            "                                                                                                  \n",
            " conv3_block2_out (Activation)  (None, 28, 28, 512)  0           ['conv3_block2_add[0][0]']       \n",
            "                                                                                                  \n",
            " conv3_block3_1_conv (Conv2D)   (None, 28, 28, 128)  65664       ['conv3_block2_out[0][0]']       \n",
            "                                                                                                  \n",
            " conv3_block3_1_bn (BatchNormal  (None, 28, 28, 128)  512        ['conv3_block3_1_conv[0][0]']    \n",
            " ization)                                                                                         \n",
            "                                                                                                  \n",
            " conv3_block3_1_relu (Activatio  (None, 28, 28, 128)  0          ['conv3_block3_1_bn[0][0]']      \n",
            " n)                                                                                               \n",
            "                                                                                                  \n",
            " conv3_block3_2_conv (Conv2D)   (None, 28, 28, 128)  147584      ['conv3_block3_1_relu[0][0]']    \n",
            "                                                                                                  \n",
            " conv3_block3_2_bn (BatchNormal  (None, 28, 28, 128)  512        ['conv3_block3_2_conv[0][0]']    \n",
            " ization)                                                                                         \n",
            "                                                                                                  \n",
            " conv3_block3_2_relu (Activatio  (None, 28, 28, 128)  0          ['conv3_block3_2_bn[0][0]']      \n",
            " n)                                                                                               \n",
            "                                                                                                  \n",
            " conv3_block3_3_conv (Conv2D)   (None, 28, 28, 512)  66048       ['conv3_block3_2_relu[0][0]']    \n",
            "                                                                                                  \n",
            " conv3_block3_3_bn (BatchNormal  (None, 28, 28, 512)  2048       ['conv3_block3_3_conv[0][0]']    \n",
            " ization)                                                                                         \n",
            "                                                                                                  \n",
            " conv3_block3_add (Add)         (None, 28, 28, 512)  0           ['conv3_block2_out[0][0]',       \n",
            "                                                                  'conv3_block3_3_bn[0][0]']      \n",
            "                                                                                                  \n",
            " conv3_block3_out (Activation)  (None, 28, 28, 512)  0           ['conv3_block3_add[0][0]']       \n",
            "                                                                                                  \n",
            " conv3_block4_1_conv (Conv2D)   (None, 28, 28, 128)  65664       ['conv3_block3_out[0][0]']       \n",
            "                                                                                                  \n",
            " conv3_block4_1_bn (BatchNormal  (None, 28, 28, 128)  512        ['conv3_block4_1_conv[0][0]']    \n",
            " ization)                                                                                         \n",
            "                                                                                                  \n",
            " conv3_block4_1_relu (Activatio  (None, 28, 28, 128)  0          ['conv3_block4_1_bn[0][0]']      \n",
            " n)                                                                                               \n",
            "                                                                                                  \n",
            " conv3_block4_2_conv (Conv2D)   (None, 28, 28, 128)  147584      ['conv3_block4_1_relu[0][0]']    \n",
            "                                                                                                  \n",
            " conv3_block4_2_bn (BatchNormal  (None, 28, 28, 128)  512        ['conv3_block4_2_conv[0][0]']    \n",
            " ization)                                                                                         \n",
            "                                                                                                  \n",
            " conv3_block4_2_relu (Activatio  (None, 28, 28, 128)  0          ['conv3_block4_2_bn[0][0]']      \n",
            " n)                                                                                               \n",
            "                                                                                                  \n",
            " conv3_block4_3_conv (Conv2D)   (None, 28, 28, 512)  66048       ['conv3_block4_2_relu[0][0]']    \n",
            "                                                                                                  \n",
            " conv3_block4_3_bn (BatchNormal  (None, 28, 28, 512)  2048       ['conv3_block4_3_conv[0][0]']    \n",
            " ization)                                                                                         \n",
            "                                                                                                  \n",
            " conv3_block4_add (Add)         (None, 28, 28, 512)  0           ['conv3_block3_out[0][0]',       \n",
            "                                                                  'conv3_block4_3_bn[0][0]']      \n",
            "                                                                                                  \n",
            " conv3_block4_out (Activation)  (None, 28, 28, 512)  0           ['conv3_block4_add[0][0]']       \n",
            "                                                                                                  \n",
            " conv4_block1_1_conv (Conv2D)   (None, 14, 14, 256)  131328      ['conv3_block4_out[0][0]']       \n",
            "                                                                                                  \n",
            " conv4_block1_1_bn (BatchNormal  (None, 14, 14, 256)  1024       ['conv4_block1_1_conv[0][0]']    \n",
            " ization)                                                                                         \n",
            "                                                                                                  \n",
            " conv4_block1_1_relu (Activatio  (None, 14, 14, 256)  0          ['conv4_block1_1_bn[0][0]']      \n",
            " n)                                                                                               \n",
            "                                                                                                  \n",
            " conv4_block1_2_conv (Conv2D)   (None, 14, 14, 256)  590080      ['conv4_block1_1_relu[0][0]']    \n",
            "                                                                                                  \n",
            " conv4_block1_2_bn (BatchNormal  (None, 14, 14, 256)  1024       ['conv4_block1_2_conv[0][0]']    \n",
            " ization)                                                                                         \n",
            "                                                                                                  \n",
            " conv4_block1_2_relu (Activatio  (None, 14, 14, 256)  0          ['conv4_block1_2_bn[0][0]']      \n",
            " n)                                                                                               \n",
            "                                                                                                  \n",
            " conv4_block1_0_conv (Conv2D)   (None, 14, 14, 1024  525312      ['conv3_block4_out[0][0]']       \n",
            "                                )                                                                 \n",
            "                                                                                                  \n",
            " conv4_block1_3_conv (Conv2D)   (None, 14, 14, 1024  263168      ['conv4_block1_2_relu[0][0]']    \n",
            "                                )                                                                 \n",
            "                                                                                                  \n",
            " conv4_block1_0_bn (BatchNormal  (None, 14, 14, 1024  4096       ['conv4_block1_0_conv[0][0]']    \n",
            " ization)                       )                                                                 \n",
            "                                                                                                  \n",
            " conv4_block1_3_bn (BatchNormal  (None, 14, 14, 1024  4096       ['conv4_block1_3_conv[0][0]']    \n",
            " ization)                       )                                                                 \n",
            "                                                                                                  \n",
            " conv4_block1_add (Add)         (None, 14, 14, 1024  0           ['conv4_block1_0_bn[0][0]',      \n",
            "                                )                                 'conv4_block1_3_bn[0][0]']      \n",
            "                                                                                                  \n",
            " conv4_block1_out (Activation)  (None, 14, 14, 1024  0           ['conv4_block1_add[0][0]']       \n",
            "                                )                                                                 \n",
            "                                                                                                  \n",
            " conv4_block2_1_conv (Conv2D)   (None, 14, 14, 256)  262400      ['conv4_block1_out[0][0]']       \n",
            "                                                                                                  \n",
            " conv4_block2_1_bn (BatchNormal  (None, 14, 14, 256)  1024       ['conv4_block2_1_conv[0][0]']    \n",
            " ization)                                                                                         \n",
            "                                                                                                  \n",
            " conv4_block2_1_relu (Activatio  (None, 14, 14, 256)  0          ['conv4_block2_1_bn[0][0]']      \n",
            " n)                                                                                               \n",
            "                                                                                                  \n",
            " conv4_block2_2_conv (Conv2D)   (None, 14, 14, 256)  590080      ['conv4_block2_1_relu[0][0]']    \n",
            "                                                                                                  \n",
            " conv4_block2_2_bn (BatchNormal  (None, 14, 14, 256)  1024       ['conv4_block2_2_conv[0][0]']    \n",
            " ization)                                                                                         \n",
            "                                                                                                  \n",
            " conv4_block2_2_relu (Activatio  (None, 14, 14, 256)  0          ['conv4_block2_2_bn[0][0]']      \n",
            " n)                                                                                               \n",
            "                                                                                                  \n",
            " conv4_block2_3_conv (Conv2D)   (None, 14, 14, 1024  263168      ['conv4_block2_2_relu[0][0]']    \n",
            "                                )                                                                 \n",
            "                                                                                                  \n",
            " conv4_block2_3_bn (BatchNormal  (None, 14, 14, 1024  4096       ['conv4_block2_3_conv[0][0]']    \n",
            " ization)                       )                                                                 \n",
            "                                                                                                  \n",
            " conv4_block2_add (Add)         (None, 14, 14, 1024  0           ['conv4_block1_out[0][0]',       \n",
            "                                )                                 'conv4_block2_3_bn[0][0]']      \n",
            "                                                                                                  \n",
            " conv4_block2_out (Activation)  (None, 14, 14, 1024  0           ['conv4_block2_add[0][0]']       \n",
            "                                )                                                                 \n",
            "                                                                                                  \n",
            " conv4_block3_1_conv (Conv2D)   (None, 14, 14, 256)  262400      ['conv4_block2_out[0][0]']       \n",
            "                                                                                                  \n",
            " conv4_block3_1_bn (BatchNormal  (None, 14, 14, 256)  1024       ['conv4_block3_1_conv[0][0]']    \n",
            " ization)                                                                                         \n",
            "                                                                                                  \n",
            " conv4_block3_1_relu (Activatio  (None, 14, 14, 256)  0          ['conv4_block3_1_bn[0][0]']      \n",
            " n)                                                                                               \n",
            "                                                                                                  \n",
            " conv4_block3_2_conv (Conv2D)   (None, 14, 14, 256)  590080      ['conv4_block3_1_relu[0][0]']    \n",
            "                                                                                                  \n",
            " conv4_block3_2_bn (BatchNormal  (None, 14, 14, 256)  1024       ['conv4_block3_2_conv[0][0]']    \n",
            " ization)                                                                                         \n",
            "                                                                                                  \n",
            " conv4_block3_2_relu (Activatio  (None, 14, 14, 256)  0          ['conv4_block3_2_bn[0][0]']      \n",
            " n)                                                                                               \n",
            "                                                                                                  \n",
            " conv4_block3_3_conv (Conv2D)   (None, 14, 14, 1024  263168      ['conv4_block3_2_relu[0][0]']    \n",
            "                                )                                                                 \n",
            "                                                                                                  \n",
            " conv4_block3_3_bn (BatchNormal  (None, 14, 14, 1024  4096       ['conv4_block3_3_conv[0][0]']    \n",
            " ization)                       )                                                                 \n",
            "                                                                                                  \n",
            " conv4_block3_add (Add)         (None, 14, 14, 1024  0           ['conv4_block2_out[0][0]',       \n",
            "                                )                                 'conv4_block3_3_bn[0][0]']      \n",
            "                                                                                                  \n",
            " conv4_block3_out (Activation)  (None, 14, 14, 1024  0           ['conv4_block3_add[0][0]']       \n",
            "                                )                                                                 \n",
            "                                                                                                  \n",
            " conv4_block4_1_conv (Conv2D)   (None, 14, 14, 256)  262400      ['conv4_block3_out[0][0]']       \n",
            "                                                                                                  \n",
            " conv4_block4_1_bn (BatchNormal  (None, 14, 14, 256)  1024       ['conv4_block4_1_conv[0][0]']    \n",
            " ization)                                                                                         \n",
            "                                                                                                  \n",
            " conv4_block4_1_relu (Activatio  (None, 14, 14, 256)  0          ['conv4_block4_1_bn[0][0]']      \n",
            " n)                                                                                               \n",
            "                                                                                                  \n",
            " conv4_block4_2_conv (Conv2D)   (None, 14, 14, 256)  590080      ['conv4_block4_1_relu[0][0]']    \n",
            "                                                                                                  \n",
            " conv4_block4_2_bn (BatchNormal  (None, 14, 14, 256)  1024       ['conv4_block4_2_conv[0][0]']    \n",
            " ization)                                                                                         \n",
            "                                                                                                  \n",
            " conv4_block4_2_relu (Activatio  (None, 14, 14, 256)  0          ['conv4_block4_2_bn[0][0]']      \n",
            " n)                                                                                               \n",
            "                                                                                                  \n",
            " conv4_block4_3_conv (Conv2D)   (None, 14, 14, 1024  263168      ['conv4_block4_2_relu[0][0]']    \n",
            "                                )                                                                 \n",
            "                                                                                                  \n",
            " conv4_block4_3_bn (BatchNormal  (None, 14, 14, 1024  4096       ['conv4_block4_3_conv[0][0]']    \n",
            " ization)                       )                                                                 \n",
            "                                                                                                  \n",
            " conv4_block4_add (Add)         (None, 14, 14, 1024  0           ['conv4_block3_out[0][0]',       \n",
            "                                )                                 'conv4_block4_3_bn[0][0]']      \n",
            "                                                                                                  \n",
            " conv4_block4_out (Activation)  (None, 14, 14, 1024  0           ['conv4_block4_add[0][0]']       \n",
            "                                )                                                                 \n",
            "                                                                                                  \n",
            " conv4_block5_1_conv (Conv2D)   (None, 14, 14, 256)  262400      ['conv4_block4_out[0][0]']       \n",
            "                                                                                                  \n",
            " conv4_block5_1_bn (BatchNormal  (None, 14, 14, 256)  1024       ['conv4_block5_1_conv[0][0]']    \n",
            " ization)                                                                                         \n",
            "                                                                                                  \n",
            " conv4_block5_1_relu (Activatio  (None, 14, 14, 256)  0          ['conv4_block5_1_bn[0][0]']      \n",
            " n)                                                                                               \n",
            "                                                                                                  \n",
            " conv4_block5_2_conv (Conv2D)   (None, 14, 14, 256)  590080      ['conv4_block5_1_relu[0][0]']    \n",
            "                                                                                                  \n",
            " conv4_block5_2_bn (BatchNormal  (None, 14, 14, 256)  1024       ['conv4_block5_2_conv[0][0]']    \n",
            " ization)                                                                                         \n",
            "                                                                                                  \n",
            " conv4_block5_2_relu (Activatio  (None, 14, 14, 256)  0          ['conv4_block5_2_bn[0][0]']      \n",
            " n)                                                                                               \n",
            "                                                                                                  \n",
            " conv4_block5_3_conv (Conv2D)   (None, 14, 14, 1024  263168      ['conv4_block5_2_relu[0][0]']    \n",
            "                                )                                                                 \n",
            "                                                                                                  \n",
            " conv4_block5_3_bn (BatchNormal  (None, 14, 14, 1024  4096       ['conv4_block5_3_conv[0][0]']    \n",
            " ization)                       )                                                                 \n",
            "                                                                                                  \n",
            " conv4_block5_add (Add)         (None, 14, 14, 1024  0           ['conv4_block4_out[0][0]',       \n",
            "                                )                                 'conv4_block5_3_bn[0][0]']      \n",
            "                                                                                                  \n",
            " conv4_block5_out (Activation)  (None, 14, 14, 1024  0           ['conv4_block5_add[0][0]']       \n",
            "                                )                                                                 \n",
            "                                                                                                  \n",
            " conv4_block6_1_conv (Conv2D)   (None, 14, 14, 256)  262400      ['conv4_block5_out[0][0]']       \n",
            "                                                                                                  \n",
            " conv4_block6_1_bn (BatchNormal  (None, 14, 14, 256)  1024       ['conv4_block6_1_conv[0][0]']    \n",
            " ization)                                                                                         \n",
            "                                                                                                  \n",
            " conv4_block6_1_relu (Activatio  (None, 14, 14, 256)  0          ['conv4_block6_1_bn[0][0]']      \n",
            " n)                                                                                               \n",
            "                                                                                                  \n",
            " conv4_block6_2_conv (Conv2D)   (None, 14, 14, 256)  590080      ['conv4_block6_1_relu[0][0]']    \n",
            "                                                                                                  \n",
            " conv4_block6_2_bn (BatchNormal  (None, 14, 14, 256)  1024       ['conv4_block6_2_conv[0][0]']    \n",
            " ization)                                                                                         \n",
            "                                                                                                  \n",
            " conv4_block6_2_relu (Activatio  (None, 14, 14, 256)  0          ['conv4_block6_2_bn[0][0]']      \n",
            " n)                                                                                               \n",
            "                                                                                                  \n",
            " conv4_block6_3_conv (Conv2D)   (None, 14, 14, 1024  263168      ['conv4_block6_2_relu[0][0]']    \n",
            "                                )                                                                 \n",
            "                                                                                                  \n",
            " conv4_block6_3_bn (BatchNormal  (None, 14, 14, 1024  4096       ['conv4_block6_3_conv[0][0]']    \n",
            " ization)                       )                                                                 \n",
            "                                                                                                  \n",
            " conv4_block6_add (Add)         (None, 14, 14, 1024  0           ['conv4_block5_out[0][0]',       \n",
            "                                )                                 'conv4_block6_3_bn[0][0]']      \n",
            "                                                                                                  \n",
            " conv4_block6_out (Activation)  (None, 14, 14, 1024  0           ['conv4_block6_add[0][0]']       \n",
            "                                )                                                                 \n",
            "                                                                                                  \n",
            " conv5_block1_1_conv (Conv2D)   (None, 7, 7, 512)    524800      ['conv4_block6_out[0][0]']       \n",
            "                                                                                                  \n",
            " conv5_block1_1_bn (BatchNormal  (None, 7, 7, 512)   2048        ['conv5_block1_1_conv[0][0]']    \n",
            " ization)                                                                                         \n",
            "                                                                                                  \n",
            " conv5_block1_1_relu (Activatio  (None, 7, 7, 512)   0           ['conv5_block1_1_bn[0][0]']      \n",
            " n)                                                                                               \n",
            "                                                                                                  \n",
            " conv5_block1_2_conv (Conv2D)   (None, 7, 7, 512)    2359808     ['conv5_block1_1_relu[0][0]']    \n",
            "                                                                                                  \n",
            " conv5_block1_2_bn (BatchNormal  (None, 7, 7, 512)   2048        ['conv5_block1_2_conv[0][0]']    \n",
            " ization)                                                                                         \n",
            "                                                                                                  \n",
            " conv5_block1_2_relu (Activatio  (None, 7, 7, 512)   0           ['conv5_block1_2_bn[0][0]']      \n",
            " n)                                                                                               \n",
            "                                                                                                  \n",
            " conv5_block1_0_conv (Conv2D)   (None, 7, 7, 2048)   2099200     ['conv4_block6_out[0][0]']       \n",
            "                                                                                                  \n",
            " conv5_block1_3_conv (Conv2D)   (None, 7, 7, 2048)   1050624     ['conv5_block1_2_relu[0][0]']    \n",
            "                                                                                                  \n",
            " conv5_block1_0_bn (BatchNormal  (None, 7, 7, 2048)  8192        ['conv5_block1_0_conv[0][0]']    \n",
            " ization)                                                                                         \n",
            "                                                                                                  \n",
            " conv5_block1_3_bn (BatchNormal  (None, 7, 7, 2048)  8192        ['conv5_block1_3_conv[0][0]']    \n",
            " ization)                                                                                         \n",
            "                                                                                                  \n",
            " conv5_block1_add (Add)         (None, 7, 7, 2048)   0           ['conv5_block1_0_bn[0][0]',      \n",
            "                                                                  'conv5_block1_3_bn[0][0]']      \n",
            "                                                                                                  \n",
            " conv5_block1_out (Activation)  (None, 7, 7, 2048)   0           ['conv5_block1_add[0][0]']       \n",
            "                                                                                                  \n",
            " conv5_block2_1_conv (Conv2D)   (None, 7, 7, 512)    1049088     ['conv5_block1_out[0][0]']       \n",
            "                                                                                                  \n",
            " conv5_block2_1_bn (BatchNormal  (None, 7, 7, 512)   2048        ['conv5_block2_1_conv[0][0]']    \n",
            " ization)                                                                                         \n",
            "                                                                                                  \n",
            " conv5_block2_1_relu (Activatio  (None, 7, 7, 512)   0           ['conv5_block2_1_bn[0][0]']      \n",
            " n)                                                                                               \n",
            "                                                                                                  \n",
            " conv5_block2_2_conv (Conv2D)   (None, 7, 7, 512)    2359808     ['conv5_block2_1_relu[0][0]']    \n",
            "                                                                                                  \n",
            " conv5_block2_2_bn (BatchNormal  (None, 7, 7, 512)   2048        ['conv5_block2_2_conv[0][0]']    \n",
            " ization)                                                                                         \n",
            "                                                                                                  \n",
            " conv5_block2_2_relu (Activatio  (None, 7, 7, 512)   0           ['conv5_block2_2_bn[0][0]']      \n",
            " n)                                                                                               \n",
            "                                                                                                  \n",
            " conv5_block2_3_conv (Conv2D)   (None, 7, 7, 2048)   1050624     ['conv5_block2_2_relu[0][0]']    \n",
            "                                                                                                  \n",
            " conv5_block2_3_bn (BatchNormal  (None, 7, 7, 2048)  8192        ['conv5_block2_3_conv[0][0]']    \n",
            " ization)                                                                                         \n",
            "                                                                                                  \n",
            " conv5_block2_add (Add)         (None, 7, 7, 2048)   0           ['conv5_block1_out[0][0]',       \n",
            "                                                                  'conv5_block2_3_bn[0][0]']      \n",
            "                                                                                                  \n",
            " conv5_block2_out (Activation)  (None, 7, 7, 2048)   0           ['conv5_block2_add[0][0]']       \n",
            "                                                                                                  \n",
            " conv5_block3_1_conv (Conv2D)   (None, 7, 7, 512)    1049088     ['conv5_block2_out[0][0]']       \n",
            "                                                                                                  \n",
            " conv5_block3_1_bn (BatchNormal  (None, 7, 7, 512)   2048        ['conv5_block3_1_conv[0][0]']    \n",
            " ization)                                                                                         \n",
            "                                                                                                  \n",
            " conv5_block3_1_relu (Activatio  (None, 7, 7, 512)   0           ['conv5_block3_1_bn[0][0]']      \n",
            " n)                                                                                               \n",
            "                                                                                                  \n",
            " conv5_block3_2_conv (Conv2D)   (None, 7, 7, 512)    2359808     ['conv5_block3_1_relu[0][0]']    \n",
            "                                                                                                  \n",
            " conv5_block3_2_bn (BatchNormal  (None, 7, 7, 512)   2048        ['conv5_block3_2_conv[0][0]']    \n",
            " ization)                                                                                         \n",
            "                                                                                                  \n",
            " conv5_block3_2_relu (Activatio  (None, 7, 7, 512)   0           ['conv5_block3_2_bn[0][0]']      \n",
            " n)                                                                                               \n",
            "                                                                                                  \n",
            " conv5_block3_3_conv (Conv2D)   (None, 7, 7, 2048)   1050624     ['conv5_block3_2_relu[0][0]']    \n",
            "                                                                                                  \n",
            " conv5_block3_3_bn (BatchNormal  (None, 7, 7, 2048)  8192        ['conv5_block3_3_conv[0][0]']    \n",
            " ization)                                                                                         \n",
            "                                                                                                  \n",
            " conv5_block3_add (Add)         (None, 7, 7, 2048)   0           ['conv5_block2_out[0][0]',       \n",
            "                                                                  'conv5_block3_3_bn[0][0]']      \n",
            "                                                                                                  \n",
            " conv5_block3_out (Activation)  (None, 7, 7, 2048)   0           ['conv5_block3_add[0][0]']       \n",
            "                                                                                                  \n",
            " reg1_conv2d (Conv2D)           (None, 7, 7, 4096)   33558528    ['conv5_block3_out[0][0]']       \n",
            "                                                                                                  \n",
            " activation_4 (Activation)      (None, 7, 7, 4096)   0           ['reg1_conv2d[0][0]']            \n",
            "                                                                                                  \n",
            " average_pooling2d_4 (AveragePo  (None, 2, 2, 4096)  0           ['activation_4[0][0]']           \n",
            " oling2D)                                                                                         \n",
            "                                                                                                  \n",
            " dropout_17 (Dropout)           (None, 2, 2, 4096)   0           ['average_pooling2d_4[0][0]']    \n",
            "                                                                                                  \n",
            " flatten_reg (Flatten)          (None, 16384)        0           ['dropout_17[0][0]']             \n",
            "                                                                                                  \n",
            " dense128_reg (Dense)           (None, 128)          2097280     ['flatten_reg[0][0]']            \n",
            "                                                                                                  \n",
            " flatten_class (Flatten)        (None, 100352)       0           ['conv5_block3_out[0][0]']       \n",
            "                                                                                                  \n",
            " dropout_18 (Dropout)           (None, 128)          0           ['dense128_reg[0][0]']           \n",
            "                                                                                                  \n",
            " dense16_class (Dense)          (None, 16)           1605648     ['flatten_class[0][0]']          \n",
            "                                                                                                  \n",
            " dense16_reg (Dense)            (None, 16)           2064        ['dropout_18[0][0]']             \n",
            "                                                                                                  \n",
            " dropout_16 (Dropout)           (None, 16)           0           ['dense16_class[0][0]']          \n",
            "                                                                                                  \n",
            " dropout_19 (Dropout)           (None, 16)           0           ['dense16_reg[0][0]']            \n",
            "                                                                                                  \n",
            " class (Dense)                  (None, 2)            34          ['dropout_16[0][0]']             \n",
            "                                                                                                  \n",
            " reg (Dense)                    (None, 1)            17          ['dropout_19[0][0]']             \n",
            "                                                                                                  \n",
            "==================================================================================================\n",
            "Total params: 60,851,283\n",
            "Trainable params: 38,318,291\n",
            "Non-trainable params: 22,532,992\n",
            "__________________________________________________________________________________________________\n"
          ]
        }
      ],
      "source": [
        "#Define the ResNet50 Transfer Learning model\n",
        "optmz = SGD(lr=1e-4, momentum=0.9, decay=1e-4/20)\n",
        "base = ResNet50(weights=\"imagenet\", include_top=False, input_tensor=Input(shape=(224, 224, 3)))\n",
        "modelname   = 'PainRecognition'\n",
        "epochs = 50\n",
        "def createModel():\n",
        "  h = base.output\n",
        "\n",
        "  x1 = Flatten(name=\"flatten_class\")(h)\n",
        "  x1 = Dense(16, activation=\"relu\",name='dense16_class')(x1)\n",
        "  x1 = Dropout(0.25)(x1)\n",
        "  output1 = Dense(2, activation=\"softmax\",name='class')(x1)\n",
        "\n",
        "  x2 = Conv2D(4096,(2,2),padding='same',name='reg1_conv2d')(h)\n",
        "  x2 = Activation('relu')(x2)\n",
        "  x2 = AveragePooling2D(pool_size=(3, 3))(x2)\n",
        "  x2 = Dropout(0.25)(x2)\n",
        "\n",
        "  x2 = Flatten(name=\"flatten_reg\")(x2)\n",
        "  x2 = Dense(128,activation='relu',name='dense128_reg')(x2)\n",
        "  x2 = Dropout(0.5)(x2)\n",
        "  x2 = Dense(16,activation='relu',name='dense16_reg')(x2)\n",
        "  x2 = Dropout(0.25)(x2)\n",
        "  output2 = Dense(1,activation='linear',name='reg')(x2)\n",
        " \n",
        "  model = Model(inputs=base.input, outputs=[output1,output2])\n",
        "  for layer in base.layers:\n",
        "    if layer.name not in ['conv5_block3_3_conv','conv5_block3_3_bn']:\n",
        "      layer.trainable = False\n",
        "  model.compile(loss=['categorical_crossentropy', 'mse'], optimizer=optmz, metrics=['accuracy','MeanSquaredError'])\n",
        "  return model\n",
        "\n",
        "model       = createModel()\n",
        "modelGo     = createModel()\n",
        "model.summary()"
      ]
    },
    {
      "cell_type": "code",
      "execution_count": null,
      "metadata": {
        "colab": {
          "base_uri": "https://localhost:8080/"
        },
        "id": "VH3zC359jyNB",
        "outputId": "f6f0a388-834e-4b52-f7be-b3751c51850a"
      },
      "outputs": [
        {
          "output_type": "stream",
          "name": "stdout",
          "text": [
            "Callbacks created:\n",
            "<keras.callbacks.ModelCheckpoint object at 0x7f7387058790>\n",
            "<keras.callbacks.CSVLogger object at 0x7f7387058b50>\n",
            "\n",
            "Path to model: /content/drive/MyDrive/MyColab/ISSMPM/training/PainRecognition_transferlearning_withVideoDataframe_Final.hdf5\n",
            "Path to log:   /content/drive/MyDrive/MyColab/ISSMPM/training/PainRecognition.csv\n"
          ]
        }
      ],
      "source": [
        "#Define the callback list and the csv file to store the training records\n",
        "currenttime     = str(dt.datetime.now().strftime(\"%Y_%m_%d_%H_%M_%S\"))\n",
        "folderpath      = '/content/drive/MyDrive/MyColab/ISSMPM/training/'\n",
        "filepath        = f'{folderpath}{modelname}_transferlearning_withVideoDataframe_Final.hdf5'\n",
        "checkpoint      = ModelCheckpoint(filepath, \n",
        "                                  monitor='val_loss', \n",
        "                                  verbose=0, \n",
        "                                  save_best_only=True, \n",
        "                                  mode='min')\n",
        "csvfilename     = f'{folderpath}{modelname}_transferlearningDataframe_Final.csv'\n",
        "csv_logger      = CSVLogger(csvfilename)\n",
        "callbacks_list  = [checkpoint,csv_logger]\n",
        "\n",
        "print(\"Callbacks created:\")\n",
        "print(callbacks_list[0])\n",
        "print(callbacks_list[1])\n",
        "print('')\n",
        "print(\"Path to model:\", filepath)\n",
        "print(\"Path to log:  \", folderpath+modelname+'.csv')"
      ]
    },
    {
      "cell_type": "code",
      "execution_count": null,
      "metadata": {
        "colab": {
          "base_uri": "https://localhost:8080/"
        },
        "id": "JseVH-ickNz4",
        "outputId": "0642e670-92cc-45b0-c046-2cf1e6de7723"
      },
      "outputs": [
        {
          "output_type": "stream",
          "name": "stdout",
          "text": [
            "Epoch 1/50\n",
            "39/39 [==============================] - 26s 539ms/step - loss: 4.0326 - class_loss: 0.6767 - reg_loss: 3.3559 - class_accuracy: 0.6547 - class_mean_squared_error: 0.2277 - reg_accuracy: 0.0000e+00 - reg_mean_squared_error: 3.3559 - val_loss: 2.8944 - val_class_loss: 0.5444 - val_reg_loss: 2.3500 - val_class_accuracy: 0.7134 - val_class_mean_squared_error: 0.1866 - val_reg_accuracy: 0.0000e+00 - val_reg_mean_squared_error: 2.3500\n",
            "Epoch 2/50\n",
            "39/39 [==============================] - 21s 532ms/step - loss: 2.6704 - class_loss: 0.4865 - reg_loss: 2.1839 - class_accuracy: 0.7340 - class_mean_squared_error: 0.1652 - reg_accuracy: 0.0000e+00 - reg_mean_squared_error: 2.1839 - val_loss: 1.5462 - val_class_loss: 0.4589 - val_reg_loss: 1.0874 - val_class_accuracy: 0.7524 - val_class_mean_squared_error: 0.1570 - val_reg_accuracy: 0.0000e+00 - val_reg_mean_squared_error: 1.0874\n",
            "Epoch 3/50\n",
            "39/39 [==============================] - 17s 439ms/step - loss: 2.3201 - class_loss: 0.4030 - reg_loss: 1.9170 - class_accuracy: 0.7915 - class_mean_squared_error: 0.1337 - reg_accuracy: 0.0000e+00 - reg_mean_squared_error: 1.9170 - val_loss: 1.9384 - val_class_loss: 0.4173 - val_reg_loss: 1.5211 - val_class_accuracy: 0.7980 - val_class_mean_squared_error: 0.1373 - val_reg_accuracy: 0.0000e+00 - val_reg_mean_squared_error: 1.5211\n",
            "Epoch 4/50\n",
            "39/39 [==============================] - 17s 436ms/step - loss: 2.2386 - class_loss: 0.3360 - reg_loss: 1.9026 - class_accuracy: 0.8382 - class_mean_squared_error: 0.1081 - reg_accuracy: 0.0000e+00 - reg_mean_squared_error: 1.9026 - val_loss: 2.4432 - val_class_loss: 0.4885 - val_reg_loss: 1.9546 - val_class_accuracy: 0.7427 - val_class_mean_squared_error: 0.1661 - val_reg_accuracy: 0.0000e+00 - val_reg_mean_squared_error: 1.9546\n",
            "Epoch 5/50\n",
            "39/39 [==============================] - 21s 539ms/step - loss: 2.0390 - class_loss: 0.2908 - reg_loss: 1.7482 - class_accuracy: 0.8730 - class_mean_squared_error: 0.0916 - reg_accuracy: 0.0000e+00 - reg_mean_squared_error: 1.7482 - val_loss: 1.4266 - val_class_loss: 0.4109 - val_reg_loss: 1.0157 - val_class_accuracy: 0.7850 - val_class_mean_squared_error: 0.1389 - val_reg_accuracy: 0.0000e+00 - val_reg_mean_squared_error: 1.0157\n",
            "Epoch 6/50\n",
            "39/39 [==============================] - 17s 441ms/step - loss: 1.7608 - class_loss: 0.2461 - reg_loss: 1.5146 - class_accuracy: 0.8925 - class_mean_squared_error: 0.0764 - reg_accuracy: 0.0000e+00 - reg_mean_squared_error: 1.5146 - val_loss: 1.4973 - val_class_loss: 0.3664 - val_reg_loss: 1.1309 - val_class_accuracy: 0.8143 - val_class_mean_squared_error: 0.1192 - val_reg_accuracy: 0.0000e+00 - val_reg_mean_squared_error: 1.1309\n",
            "Epoch 7/50\n",
            "39/39 [==============================] - 21s 540ms/step - loss: 1.7462 - class_loss: 0.2084 - reg_loss: 1.5378 - class_accuracy: 0.9066 - class_mean_squared_error: 0.0635 - reg_accuracy: 0.0000e+00 - reg_mean_squared_error: 1.5378 - val_loss: 1.3713 - val_class_loss: 0.3503 - val_reg_loss: 1.0211 - val_class_accuracy: 0.8176 - val_class_mean_squared_error: 0.1153 - val_reg_accuracy: 0.0000e+00 - val_reg_mean_squared_error: 1.0211\n",
            "Epoch 8/50\n",
            "39/39 [==============================] - 21s 537ms/step - loss: 1.6852 - class_loss: 0.2146 - reg_loss: 1.4706 - class_accuracy: 0.9099 - class_mean_squared_error: 0.0654 - reg_accuracy: 0.0000e+00 - reg_mean_squared_error: 1.4706 - val_loss: 1.1648 - val_class_loss: 0.3634 - val_reg_loss: 0.8014 - val_class_accuracy: 0.8013 - val_class_mean_squared_error: 0.1217 - val_reg_accuracy: 0.0000e+00 - val_reg_mean_squared_error: 0.8014\n",
            "Epoch 9/50\n",
            "39/39 [==============================] - 17s 441ms/step - loss: 1.6090 - class_loss: 0.1802 - reg_loss: 1.4288 - class_accuracy: 0.9349 - class_mean_squared_error: 0.0518 - reg_accuracy: 0.0000e+00 - reg_mean_squared_error: 1.4288 - val_loss: 1.2429 - val_class_loss: 0.3885 - val_reg_loss: 0.8544 - val_class_accuracy: 0.8208 - val_class_mean_squared_error: 0.1274 - val_reg_accuracy: 0.0000e+00 - val_reg_mean_squared_error: 0.8544\n",
            "Epoch 10/50\n",
            "39/39 [==============================] - 17s 438ms/step - loss: 1.6000 - class_loss: 0.1492 - reg_loss: 1.4508 - class_accuracy: 0.9414 - class_mean_squared_error: 0.0429 - reg_accuracy: 0.0000e+00 - reg_mean_squared_error: 1.4508 - val_loss: 1.3548 - val_class_loss: 0.3382 - val_reg_loss: 1.0166 - val_class_accuracy: 0.8339 - val_class_mean_squared_error: 0.1099 - val_reg_accuracy: 0.0000e+00 - val_reg_mean_squared_error: 1.0166\n",
            "Epoch 11/50\n",
            "39/39 [==============================] - 17s 438ms/step - loss: 1.5151 - class_loss: 0.1351 - reg_loss: 1.3801 - class_accuracy: 0.9533 - class_mean_squared_error: 0.0376 - reg_accuracy: 0.0000e+00 - reg_mean_squared_error: 1.3801 - val_loss: 1.3502 - val_class_loss: 0.3375 - val_reg_loss: 1.0127 - val_class_accuracy: 0.8404 - val_class_mean_squared_error: 0.1093 - val_reg_accuracy: 0.0000e+00 - val_reg_mean_squared_error: 1.0127\n",
            "Epoch 12/50\n",
            "39/39 [==============================] - 17s 438ms/step - loss: 1.4076 - class_loss: 0.1144 - reg_loss: 1.2932 - class_accuracy: 0.9566 - class_mean_squared_error: 0.0321 - reg_accuracy: 0.0000e+00 - reg_mean_squared_error: 1.2932 - val_loss: 1.3698 - val_class_loss: 0.3484 - val_reg_loss: 1.0213 - val_class_accuracy: 0.8274 - val_class_mean_squared_error: 0.1125 - val_reg_accuracy: 0.0000e+00 - val_reg_mean_squared_error: 1.0213\n",
            "Epoch 13/50\n",
            "39/39 [==============================] - 17s 439ms/step - loss: 1.2703 - class_loss: 0.1033 - reg_loss: 1.1670 - class_accuracy: 0.9739 - class_mean_squared_error: 0.0268 - reg_accuracy: 0.0000e+00 - reg_mean_squared_error: 1.1670 - val_loss: 1.3619 - val_class_loss: 0.3386 - val_reg_loss: 1.0233 - val_class_accuracy: 0.8404 - val_class_mean_squared_error: 0.1085 - val_reg_accuracy: 0.0000e+00 - val_reg_mean_squared_error: 1.0233\n",
            "Epoch 14/50\n",
            "39/39 [==============================] - 19s 501ms/step - loss: 1.1632 - class_loss: 0.0836 - reg_loss: 1.0796 - class_accuracy: 0.9783 - class_mean_squared_error: 0.0213 - reg_accuracy: 0.0000e+00 - reg_mean_squared_error: 1.0796 - val_loss: 1.5756 - val_class_loss: 0.3495 - val_reg_loss: 1.2260 - val_class_accuracy: 0.8339 - val_class_mean_squared_error: 0.1100 - val_reg_accuracy: 0.0000e+00 - val_reg_mean_squared_error: 1.2260\n",
            "Epoch 15/50\n",
            "39/39 [==============================] - 17s 438ms/step - loss: 1.2333 - class_loss: 0.0744 - reg_loss: 1.1588 - class_accuracy: 0.9783 - class_mean_squared_error: 0.0182 - reg_accuracy: 0.0000e+00 - reg_mean_squared_error: 1.1588 - val_loss: 1.5574 - val_class_loss: 0.3570 - val_reg_loss: 1.2005 - val_class_accuracy: 0.8436 - val_class_mean_squared_error: 0.1107 - val_reg_accuracy: 0.0000e+00 - val_reg_mean_squared_error: 1.2005\n",
            "Epoch 16/50\n",
            "39/39 [==============================] - 17s 440ms/step - loss: 1.2192 - class_loss: 0.0738 - reg_loss: 1.1453 - class_accuracy: 0.9805 - class_mean_squared_error: 0.0185 - reg_accuracy: 0.0000e+00 - reg_mean_squared_error: 1.1453 - val_loss: 1.1891 - val_class_loss: 0.3547 - val_reg_loss: 0.8345 - val_class_accuracy: 0.8436 - val_class_mean_squared_error: 0.1114 - val_reg_accuracy: 0.0000e+00 - val_reg_mean_squared_error: 0.8345\n",
            "Epoch 17/50\n",
            "39/39 [==============================] - 17s 440ms/step - loss: 1.2461 - class_loss: 0.0856 - reg_loss: 1.1605 - class_accuracy: 0.9685 - class_mean_squared_error: 0.0231 - reg_accuracy: 0.0000e+00 - reg_mean_squared_error: 1.1605 - val_loss: 1.3511 - val_class_loss: 0.3883 - val_reg_loss: 0.9628 - val_class_accuracy: 0.8567 - val_class_mean_squared_error: 0.1183 - val_reg_accuracy: 0.0000e+00 - val_reg_mean_squared_error: 0.9628\n",
            "Epoch 18/50\n",
            "39/39 [==============================] - 17s 440ms/step - loss: 1.1756 - class_loss: 0.0718 - reg_loss: 1.1039 - class_accuracy: 0.9729 - class_mean_squared_error: 0.0185 - reg_accuracy: 0.0000e+00 - reg_mean_squared_error: 1.1039 - val_loss: 1.1967 - val_class_loss: 0.3853 - val_reg_loss: 0.8114 - val_class_accuracy: 0.8502 - val_class_mean_squared_error: 0.1173 - val_reg_accuracy: 0.0000e+00 - val_reg_mean_squared_error: 0.8114\n",
            "Epoch 19/50\n",
            "39/39 [==============================] - 21s 542ms/step - loss: 1.1119 - class_loss: 0.0675 - reg_loss: 1.0444 - class_accuracy: 0.9837 - class_mean_squared_error: 0.0163 - reg_accuracy: 0.0000e+00 - reg_mean_squared_error: 1.0444 - val_loss: 1.1152 - val_class_loss: 0.3792 - val_reg_loss: 0.7359 - val_class_accuracy: 0.8469 - val_class_mean_squared_error: 0.1146 - val_reg_accuracy: 0.0000e+00 - val_reg_mean_squared_error: 0.7359\n",
            "Epoch 20/50\n",
            "39/39 [==============================] - 17s 444ms/step - loss: 1.2084 - class_loss: 0.0606 - reg_loss: 1.1478 - class_accuracy: 0.9794 - class_mean_squared_error: 0.0149 - reg_accuracy: 0.0000e+00 - reg_mean_squared_error: 1.1478 - val_loss: 1.3131 - val_class_loss: 0.4193 - val_reg_loss: 0.8938 - val_class_accuracy: 0.8469 - val_class_mean_squared_error: 0.1226 - val_reg_accuracy: 0.0000e+00 - val_reg_mean_squared_error: 0.8938\n",
            "Epoch 21/50\n",
            "39/39 [==============================] - 17s 439ms/step - loss: 1.1129 - class_loss: 0.0681 - reg_loss: 1.0448 - class_accuracy: 0.9761 - class_mean_squared_error: 0.0178 - reg_accuracy: 0.0000e+00 - reg_mean_squared_error: 1.0448 - val_loss: 1.1894 - val_class_loss: 0.3834 - val_reg_loss: 0.8059 - val_class_accuracy: 0.8436 - val_class_mean_squared_error: 0.1159 - val_reg_accuracy: 0.0000e+00 - val_reg_mean_squared_error: 0.8059\n",
            "Epoch 22/50\n",
            "39/39 [==============================] - 17s 439ms/step - loss: 1.0955 - class_loss: 0.0568 - reg_loss: 1.0387 - class_accuracy: 0.9837 - class_mean_squared_error: 0.0144 - reg_accuracy: 0.0000e+00 - reg_mean_squared_error: 1.0387 - val_loss: 1.3641 - val_class_loss: 0.4077 - val_reg_loss: 0.9564 - val_class_accuracy: 0.8306 - val_class_mean_squared_error: 0.1190 - val_reg_accuracy: 0.0000e+00 - val_reg_mean_squared_error: 0.9564\n",
            "Epoch 23/50\n",
            "39/39 [==============================] - 17s 440ms/step - loss: 0.9514 - class_loss: 0.0511 - reg_loss: 0.9003 - class_accuracy: 0.9837 - class_mean_squared_error: 0.0125 - reg_accuracy: 0.0000e+00 - reg_mean_squared_error: 0.9003 - val_loss: 1.4224 - val_class_loss: 0.4021 - val_reg_loss: 1.0203 - val_class_accuracy: 0.8436 - val_class_mean_squared_error: 0.1172 - val_reg_accuracy: 0.0000e+00 - val_reg_mean_squared_error: 1.0203\n",
            "Epoch 24/50\n",
            "39/39 [==============================] - 17s 439ms/step - loss: 0.9374 - class_loss: 0.0466 - reg_loss: 0.8907 - class_accuracy: 0.9870 - class_mean_squared_error: 0.0111 - reg_accuracy: 0.0000e+00 - reg_mean_squared_error: 0.8907 - val_loss: 1.6209 - val_class_loss: 0.4093 - val_reg_loss: 1.2116 - val_class_accuracy: 0.8436 - val_class_mean_squared_error: 0.1189 - val_reg_accuracy: 0.0000e+00 - val_reg_mean_squared_error: 1.2116\n",
            "Epoch 25/50\n",
            "39/39 [==============================] - 17s 439ms/step - loss: 1.0141 - class_loss: 0.0436 - reg_loss: 0.9705 - class_accuracy: 0.9859 - class_mean_squared_error: 0.0099 - reg_accuracy: 0.0000e+00 - reg_mean_squared_error: 0.9705 - val_loss: 1.2139 - val_class_loss: 0.4050 - val_reg_loss: 0.8089 - val_class_accuracy: 0.8371 - val_class_mean_squared_error: 0.1163 - val_reg_accuracy: 0.0000e+00 - val_reg_mean_squared_error: 0.8089\n",
            "Epoch 26/50\n",
            "39/39 [==============================] - 17s 439ms/step - loss: 0.8508 - class_loss: 0.0351 - reg_loss: 0.8157 - class_accuracy: 0.9957 - class_mean_squared_error: 0.0071 - reg_accuracy: 0.0000e+00 - reg_mean_squared_error: 0.8157 - val_loss: 1.1874 - val_class_loss: 0.4220 - val_reg_loss: 0.7654 - val_class_accuracy: 0.8469 - val_class_mean_squared_error: 0.1191 - val_reg_accuracy: 0.0000e+00 - val_reg_mean_squared_error: 0.7654\n",
            "Epoch 27/50\n",
            "39/39 [==============================] - 17s 439ms/step - loss: 0.9866 - class_loss: 0.0395 - reg_loss: 0.9471 - class_accuracy: 0.9891 - class_mean_squared_error: 0.0091 - reg_accuracy: 0.0000e+00 - reg_mean_squared_error: 0.9471 - val_loss: 1.2978 - val_class_loss: 0.4170 - val_reg_loss: 0.8808 - val_class_accuracy: 0.8436 - val_class_mean_squared_error: 0.1187 - val_reg_accuracy: 0.0000e+00 - val_reg_mean_squared_error: 0.8808\n",
            "Epoch 28/50\n",
            "39/39 [==============================] - 17s 438ms/step - loss: 0.8753 - class_loss: 0.0421 - reg_loss: 0.8332 - class_accuracy: 0.9881 - class_mean_squared_error: 0.0102 - reg_accuracy: 0.0000e+00 - reg_mean_squared_error: 0.8332 - val_loss: 1.4514 - val_class_loss: 0.4440 - val_reg_loss: 1.0075 - val_class_accuracy: 0.8436 - val_class_mean_squared_error: 0.1218 - val_reg_accuracy: 0.0000e+00 - val_reg_mean_squared_error: 1.0075\n",
            "Epoch 29/50\n",
            "39/39 [==============================] - 21s 540ms/step - loss: 0.9129 - class_loss: 0.0410 - reg_loss: 0.8719 - class_accuracy: 0.9837 - class_mean_squared_error: 0.0102 - reg_accuracy: 0.0000e+00 - reg_mean_squared_error: 0.8719 - val_loss: 1.0655 - val_class_loss: 0.4210 - val_reg_loss: 0.6446 - val_class_accuracy: 0.8371 - val_class_mean_squared_error: 0.1179 - val_reg_accuracy: 0.0000e+00 - val_reg_mean_squared_error: 0.6446\n",
            "Epoch 30/50\n",
            "39/39 [==============================] - 17s 442ms/step - loss: 0.8752 - class_loss: 0.0315 - reg_loss: 0.8437 - class_accuracy: 0.9946 - class_mean_squared_error: 0.0067 - reg_accuracy: 0.0000e+00 - reg_mean_squared_error: 0.8437 - val_loss: 1.1313 - val_class_loss: 0.4376 - val_reg_loss: 0.6937 - val_class_accuracy: 0.8371 - val_class_mean_squared_error: 0.1205 - val_reg_accuracy: 0.0000e+00 - val_reg_mean_squared_error: 0.6937\n",
            "Epoch 31/50\n",
            "39/39 [==============================] - 21s 537ms/step - loss: 0.8352 - class_loss: 0.0369 - reg_loss: 0.7983 - class_accuracy: 0.9891 - class_mean_squared_error: 0.0085 - reg_accuracy: 0.0000e+00 - reg_mean_squared_error: 0.7983 - val_loss: 1.0395 - val_class_loss: 0.4447 - val_reg_loss: 0.5947 - val_class_accuracy: 0.8404 - val_class_mean_squared_error: 0.1196 - val_reg_accuracy: 0.0000e+00 - val_reg_mean_squared_error: 0.5947\n",
            "Epoch 32/50\n",
            "39/39 [==============================] - 17s 442ms/step - loss: 0.8644 - class_loss: 0.0301 - reg_loss: 0.8342 - class_accuracy: 0.9935 - class_mean_squared_error: 0.0064 - reg_accuracy: 0.0000e+00 - reg_mean_squared_error: 0.8342 - val_loss: 1.1613 - val_class_loss: 0.4562 - val_reg_loss: 0.7051 - val_class_accuracy: 0.8436 - val_class_mean_squared_error: 0.1224 - val_reg_accuracy: 0.0000e+00 - val_reg_mean_squared_error: 0.7051\n",
            "Epoch 33/50\n",
            "39/39 [==============================] - 17s 439ms/step - loss: 0.8166 - class_loss: 0.0372 - reg_loss: 0.7794 - class_accuracy: 0.9913 - class_mean_squared_error: 0.0083 - reg_accuracy: 0.0000e+00 - reg_mean_squared_error: 0.7794 - val_loss: 1.5248 - val_class_loss: 0.4303 - val_reg_loss: 1.0945 - val_class_accuracy: 0.8436 - val_class_mean_squared_error: 0.1192 - val_reg_accuracy: 0.0000e+00 - val_reg_mean_squared_error: 1.0945\n",
            "Epoch 34/50\n",
            "39/39 [==============================] - 17s 439ms/step - loss: 0.7768 - class_loss: 0.0253 - reg_loss: 0.7514 - class_accuracy: 0.9913 - class_mean_squared_error: 0.0052 - reg_accuracy: 0.0000e+00 - reg_mean_squared_error: 0.7514 - val_loss: 1.5527 - val_class_loss: 0.4520 - val_reg_loss: 1.1007 - val_class_accuracy: 0.8404 - val_class_mean_squared_error: 0.1230 - val_reg_accuracy: 0.0000e+00 - val_reg_mean_squared_error: 1.1007\n",
            "Epoch 35/50\n",
            "39/39 [==============================] - 17s 439ms/step - loss: 0.8264 - class_loss: 0.0406 - reg_loss: 0.7858 - class_accuracy: 0.9870 - class_mean_squared_error: 0.0097 - reg_accuracy: 0.0000e+00 - reg_mean_squared_error: 0.7858 - val_loss: 1.2524 - val_class_loss: 0.4618 - val_reg_loss: 0.7906 - val_class_accuracy: 0.8404 - val_class_mean_squared_error: 0.1262 - val_reg_accuracy: 0.0000e+00 - val_reg_mean_squared_error: 0.7906\n",
            "Epoch 36/50\n",
            "39/39 [==============================] - 17s 438ms/step - loss: 0.8062 - class_loss: 0.0336 - reg_loss: 0.7726 - class_accuracy: 0.9946 - class_mean_squared_error: 0.0072 - reg_accuracy: 0.0000e+00 - reg_mean_squared_error: 0.7726 - val_loss: 1.2883 - val_class_loss: 0.4454 - val_reg_loss: 0.8428 - val_class_accuracy: 0.8436 - val_class_mean_squared_error: 0.1224 - val_reg_accuracy: 0.0000e+00 - val_reg_mean_squared_error: 0.8428\n",
            "Epoch 37/50\n",
            "39/39 [==============================] - 17s 439ms/step - loss: 0.8740 - class_loss: 0.0256 - reg_loss: 0.8484 - class_accuracy: 0.9967 - class_mean_squared_error: 0.0053 - reg_accuracy: 0.0000e+00 - reg_mean_squared_error: 0.8484 - val_loss: 1.1112 - val_class_loss: 0.4836 - val_reg_loss: 0.6276 - val_class_accuracy: 0.8436 - val_class_mean_squared_error: 0.1268 - val_reg_accuracy: 0.0000e+00 - val_reg_mean_squared_error: 0.6276\n",
            "Epoch 38/50\n",
            "39/39 [==============================] - 17s 438ms/step - loss: 0.8034 - class_loss: 0.0317 - reg_loss: 0.7718 - class_accuracy: 0.9913 - class_mean_squared_error: 0.0074 - reg_accuracy: 0.0000e+00 - reg_mean_squared_error: 0.7718 - val_loss: 1.0760 - val_class_loss: 0.4702 - val_reg_loss: 0.6059 - val_class_accuracy: 0.8274 - val_class_mean_squared_error: 0.1239 - val_reg_accuracy: 0.0000e+00 - val_reg_mean_squared_error: 0.6059\n",
            "Epoch 39/50\n",
            "39/39 [==============================] - 17s 438ms/step - loss: 0.7545 - class_loss: 0.0217 - reg_loss: 0.7328 - class_accuracy: 0.9967 - class_mean_squared_error: 0.0039 - reg_accuracy: 0.0000e+00 - reg_mean_squared_error: 0.7328 - val_loss: 1.0406 - val_class_loss: 0.4435 - val_reg_loss: 0.5972 - val_class_accuracy: 0.8502 - val_class_mean_squared_error: 0.1194 - val_reg_accuracy: 0.0000e+00 - val_reg_mean_squared_error: 0.5972\n",
            "Epoch 40/50\n",
            "39/39 [==============================] - 17s 438ms/step - loss: 0.7441 - class_loss: 0.0251 - reg_loss: 0.7191 - class_accuracy: 0.9957 - class_mean_squared_error: 0.0051 - reg_accuracy: 0.0000e+00 - reg_mean_squared_error: 0.7191 - val_loss: 1.4737 - val_class_loss: 0.4669 - val_reg_loss: 1.0069 - val_class_accuracy: 0.8469 - val_class_mean_squared_error: 0.1221 - val_reg_accuracy: 0.0000e+00 - val_reg_mean_squared_error: 1.0069\n",
            "Epoch 41/50\n",
            "39/39 [==============================] - 17s 438ms/step - loss: 0.7165 - class_loss: 0.0298 - reg_loss: 0.6868 - class_accuracy: 0.9902 - class_mean_squared_error: 0.0071 - reg_accuracy: 0.0000e+00 - reg_mean_squared_error: 0.6868 - val_loss: 1.2628 - val_class_loss: 0.4497 - val_reg_loss: 0.8132 - val_class_accuracy: 0.8534 - val_class_mean_squared_error: 0.1205 - val_reg_accuracy: 0.0000e+00 - val_reg_mean_squared_error: 0.8132\n",
            "Epoch 42/50\n",
            "39/39 [==============================] - 17s 438ms/step - loss: 0.7478 - class_loss: 0.0241 - reg_loss: 0.7237 - class_accuracy: 0.9935 - class_mean_squared_error: 0.0056 - reg_accuracy: 0.0000e+00 - reg_mean_squared_error: 0.7237 - val_loss: 1.5338 - val_class_loss: 0.4993 - val_reg_loss: 1.0345 - val_class_accuracy: 0.8404 - val_class_mean_squared_error: 0.1265 - val_reg_accuracy: 0.0000e+00 - val_reg_mean_squared_error: 1.0345\n",
            "Epoch 43/50\n",
            "39/39 [==============================] - 17s 438ms/step - loss: 0.6491 - class_loss: 0.0239 - reg_loss: 0.6252 - class_accuracy: 0.9935 - class_mean_squared_error: 0.0051 - reg_accuracy: 0.0000e+00 - reg_mean_squared_error: 0.6252 - val_loss: 1.2212 - val_class_loss: 0.5034 - val_reg_loss: 0.7178 - val_class_accuracy: 0.8436 - val_class_mean_squared_error: 0.1262 - val_reg_accuracy: 0.0000e+00 - val_reg_mean_squared_error: 0.7178\n",
            "Epoch 44/50\n",
            "39/39 [==============================] - 21s 544ms/step - loss: 0.7242 - class_loss: 0.0186 - reg_loss: 0.7056 - class_accuracy: 0.9967 - class_mean_squared_error: 0.0036 - reg_accuracy: 0.0000e+00 - reg_mean_squared_error: 0.7056 - val_loss: 1.0305 - val_class_loss: 0.4862 - val_reg_loss: 0.5444 - val_class_accuracy: 0.8404 - val_class_mean_squared_error: 0.1253 - val_reg_accuracy: 0.0000e+00 - val_reg_mean_squared_error: 0.5444\n",
            "Epoch 45/50\n",
            "39/39 [==============================] - 17s 442ms/step - loss: 0.7147 - class_loss: 0.0235 - reg_loss: 0.6912 - class_accuracy: 0.9935 - class_mean_squared_error: 0.0054 - reg_accuracy: 0.0000e+00 - reg_mean_squared_error: 0.6912 - val_loss: 1.2280 - val_class_loss: 0.4731 - val_reg_loss: 0.7549 - val_class_accuracy: 0.8502 - val_class_mean_squared_error: 0.1247 - val_reg_accuracy: 0.0000e+00 - val_reg_mean_squared_error: 0.7549\n",
            "Epoch 46/50\n",
            "39/39 [==============================] - 17s 438ms/step - loss: 0.6469 - class_loss: 0.0191 - reg_loss: 0.6278 - class_accuracy: 0.9978 - class_mean_squared_error: 0.0037 - reg_accuracy: 0.0000e+00 - reg_mean_squared_error: 0.6278 - val_loss: 1.1876 - val_class_loss: 0.5072 - val_reg_loss: 0.6805 - val_class_accuracy: 0.8404 - val_class_mean_squared_error: 0.1277 - val_reg_accuracy: 0.0000e+00 - val_reg_mean_squared_error: 0.6805\n",
            "Epoch 47/50\n",
            "39/39 [==============================] - 17s 438ms/step - loss: 0.7017 - class_loss: 0.0223 - reg_loss: 0.6794 - class_accuracy: 0.9935 - class_mean_squared_error: 0.0050 - reg_accuracy: 0.0000e+00 - reg_mean_squared_error: 0.6794 - val_loss: 1.1044 - val_class_loss: 0.4779 - val_reg_loss: 0.6265 - val_class_accuracy: 0.8404 - val_class_mean_squared_error: 0.1245 - val_reg_accuracy: 0.0000e+00 - val_reg_mean_squared_error: 0.6265\n",
            "Epoch 48/50\n",
            "39/39 [==============================] - 21s 542ms/step - loss: 0.6735 - class_loss: 0.0233 - reg_loss: 0.6502 - class_accuracy: 0.9913 - class_mean_squared_error: 0.0052 - reg_accuracy: 0.0000e+00 - reg_mean_squared_error: 0.6502 - val_loss: 0.9969 - val_class_loss: 0.4843 - val_reg_loss: 0.5127 - val_class_accuracy: 0.8404 - val_class_mean_squared_error: 0.1257 - val_reg_accuracy: 0.0000e+00 - val_reg_mean_squared_error: 0.5127\n",
            "Epoch 49/50\n",
            "39/39 [==============================] - 17s 441ms/step - loss: 0.6693 - class_loss: 0.0306 - reg_loss: 0.6386 - class_accuracy: 0.9913 - class_mean_squared_error: 0.0073 - reg_accuracy: 0.0000e+00 - reg_mean_squared_error: 0.6386 - val_loss: 1.4051 - val_class_loss: 0.4822 - val_reg_loss: 0.9229 - val_class_accuracy: 0.8436 - val_class_mean_squared_error: 0.1248 - val_reg_accuracy: 0.0000e+00 - val_reg_mean_squared_error: 0.9229\n",
            "Epoch 50/50\n",
            "39/39 [==============================] - 17s 439ms/step - loss: 0.6392 - class_loss: 0.0248 - reg_loss: 0.6144 - class_accuracy: 0.9891 - class_mean_squared_error: 0.0060 - reg_accuracy: 0.0000e+00 - reg_mean_squared_error: 0.6144 - val_loss: 1.0382 - val_class_loss: 0.4863 - val_reg_loss: 0.5519 - val_class_accuracy: 0.8534 - val_class_mean_squared_error: 0.1238 - val_reg_accuracy: 0.0000e+00 - val_reg_mean_squared_error: 0.5519\n"
          ]
        },
        {
          "output_type": "execute_result",
          "data": {
            "text/plain": [
              "<keras.callbacks.History at 0x7f738700aa10>"
            ]
          },
          "metadata": {},
          "execution_count": 27
        }
      ],
      "source": [
        "model.fit(X_train, \n",
        "          [y_class_train,y_reg_train],\n",
        "          validation_data=(X_test, [y_class_test,y_reg_test]),\n",
        "          epochs=epochs, \n",
        "          batch_size=24,\n",
        "          shuffle=True,\n",
        "          callbacks=callbacks_list)"
      ]
    },
    {
      "cell_type": "code",
      "execution_count": null,
      "metadata": {
        "id": "Xc8-jSm1kSyW",
        "colab": {
          "base_uri": "https://localhost:8080/"
        },
        "outputId": "9925c0e2-f911-47b8-8f14-582d5d843676"
      },
      "outputs": [
        {
          "output_type": "stream",
          "name": "stdout",
          "text": [
            "Model weights loaded from: /content/drive/MyDrive/MyColab/ISSMPM/training/PainRecognition_transferlearning_withVideoDataframe_Final.hdf5\n",
            "Prediction completes.\n"
          ]
        }
      ],
      "source": [
        "#Load the weights of the model\n",
        "modelGo.load_weights(filepath)\n",
        "print(\"Model weights loaded from:\", filepath)\n",
        "\n",
        "modelGo.compile(loss=['categorical_crossentropy', 'mse'],\n",
        "                   optimizer=optmz,\n",
        "                  metrics=['accuracy','MeanSquaredError'])\n",
        "\n",
        "predicts_class,predicts_reg    = modelGo.predict(X_test)\n",
        "print(\"Prediction completes.\")"
      ]
    },
    {
      "cell_type": "markdown",
      "metadata": {
        "id": "GK_2wE4qCRyr"
      },
      "source": [
        "### Pain Recognition"
      ]
    },
    {
      "cell_type": "code",
      "execution_count": null,
      "metadata": {
        "id": "Nwj5I8eA0BpI",
        "colab": {
          "base_uri": "https://localhost:8080/"
        },
        "outputId": "ef74fc8c-ef70-4634-8090-f716712018f6"
      },
      "outputs": [
        {
          "output_type": "stream",
          "name": "stdout",
          "text": [
            "Best accuracy (on testing dataset): 84.04%\n",
            "              precision    recall  f1-score   support\n",
            "\n",
            "    not pain     0.8506    0.8344    0.8424       157\n",
            "        pain     0.8301    0.8467    0.8383       150\n",
            "\n",
            "   micro avg     0.8404    0.8404    0.8404       307\n",
            "   macro avg     0.8404    0.8405    0.8404       307\n",
            "weighted avg     0.8406    0.8404    0.8404       307\n",
            " samples avg     0.8404    0.8404    0.8404       307\n",
            "\n"
          ]
        }
      ],
      "source": [
        "#Plot the training records to observe any overfitting on the model.\n",
        "labelname   = ['not pain','pain']                      \n",
        "testScores  = sklearn.metrics.accuracy_score(y_class_test,predicts_class>0.5)\n",
        "\n",
        "print(\"Best accuracy (on testing dataset): %.2f%%\" % (testScores*100))\n",
        "print(sklearn.metrics.classification_report(y_class_test,\n",
        "                                    predicts_class.round(),\n",
        "                                    target_names=labelname,\n",
        "                                    digits=4))"
      ]
    },
    {
      "cell_type": "code",
      "execution_count": null,
      "metadata": {
        "id": "PXnEUmFuAE1S",
        "colab": {
          "base_uri": "https://localhost:8080/",
          "height": 265
        },
        "outputId": "33428747-6bf5-44b5-c25e-f7ed15276ff0"
      },
      "outputs": [
        {
          "output_type": "display_data",
          "data": {
            "text/plain": [
              "<Figure size 432x288 with 1 Axes>"
            ],
            "image/png": "[encoded data removed]"
          },
          "metadata": {
            "needs_background": "light"
          }
        }
      ],
      "source": [
        "oneClassTest = [painClass[1] for painClass in y_class_test]\n",
        "oneClassPredict = [painClass[1] for painClass in predicts_class]\n",
        "\n",
        "fpr, tpr, _ = sklearn.metrics.roc_curve(oneClassTest,  oneClassPredict)\n",
        "auc = sklearn.metrics.roc_auc_score(oneClassTest, oneClassPredict)\n",
        "\n",
        "plt.plot(fpr,tpr,label=\"auc=\"+str(auc))\n",
        "plt.plot([0,1],[0,1],'k--')\n",
        "plt.legend(loc=4)\n",
        "plt.show()"
      ]
    },
    {
      "cell_type": "code",
      "execution_count": null,
      "metadata": {
        "id": "Txurxfd7Bl90",
        "colab": {
          "base_uri": "https://localhost:8080/",
          "height": 281
        },
        "outputId": "aaf4d677-db5b-4d66-a7bc-4d31261c40ec"
      },
      "outputs": [
        {
          "output_type": "display_data",
          "data": {
            "text/plain": [
              "<Figure size 432x288 with 2 Axes>"
            ],
            "image/png": "[encoded data removed]"
          },
          "metadata": {
            "needs_background": "light"
          }
        }
      ],
      "source": [
        "#Plot the training records to observe any overfitting on the model.\n",
        "records     = pd.read_csv(csvfilename)\n",
        "plt.figure()\n",
        "plt.subplot(211)\n",
        "plt.plot(records['val_class_loss'], label=\"validation\")\n",
        "plt.plot(records['class_loss'],label=\"training\")\n",
        "plt.yticks([0.1,0.3,0.5,0.7,0.9,1.2])\n",
        "plt.title('Loss value',fontsize=12)\n",
        "\n",
        "ax          = plt.gca()\n",
        "ax.set_xticklabels([])\n",
        "\n",
        "plt.subplot(212)\n",
        "plt.plot(records['val_class_accuracy'],label=\"validation\")\n",
        "plt.plot(records['class_accuracy'],label=\"training\")\n",
        "plt.title('Accuracy',fontsize=12)\n",
        "ax.legend()\n",
        "plt.show()"
      ]
    },
    {
      "cell_type": "markdown",
      "metadata": {
        "id": "f_roxwQQCdGo"
      },
      "source": [
        "### Pain Expression"
      ]
    },
    {
      "cell_type": "code",
      "execution_count": null,
      "metadata": {
        "id": "1uDr_fVYCiWy",
        "colab": {
          "base_uri": "https://localhost:8080/",
          "height": 298
        },
        "outputId": "914e4c96-c820-4c5b-89be-412be30815e8"
      },
      "outputs": [
        {
          "output_type": "stream",
          "name": "stdout",
          "text": [
            "The mean squared error (MSE) on test set:0.5126529319337714\n"
          ]
        },
        {
          "output_type": "display_data",
          "data": {
            "text/plain": [
              "<Figure size 432x288 with 2 Axes>"
            ],
            "image/png": "[encoded data removed]"
          },
          "metadata": {
            "needs_background": "light"
          }
        }
      ],
      "source": [
        "#Plot the training records to observe any overfitting on the model.\n",
        "testScores  = sklearn.metrics.mean_squared_error(y_reg_test,predicts_reg)\n",
        "\n",
        "print(f\"The mean squared error (MSE) on test set:{testScores}\")\n",
        "\n",
        "records     = pd.read_csv(csvfilename)\n",
        "plt.figure()\n",
        "plt.subplot(211)\n",
        "plt.plot(records['val_reg_loss'][5:], label=\"validation\")\n",
        "plt.plot(records['reg_loss'][5:],label=\"training\")\n",
        "plt.yticks([0.2,0.5,0.8,1.1,1.5,2])\n",
        "plt.title('Loss value',fontsize=12)\n",
        "\n",
        "ax          = plt.gca()\n",
        "ax.set_xticklabels([])\n",
        "\n",
        "plt.subplot(212)\n",
        "plt.plot(records['val_reg_mean_squared_error'][5:],label=\"validation\")\n",
        "plt.plot(records['reg_mean_squared_error'][5:],label=\"training\")\n",
        "plt.title('rmse',fontsize=12)\n",
        "ax.legend()\n",
        "plt.show()\n"
      ]
    },
    {
      "cell_type": "code",
      "execution_count": null,
      "metadata": {
        "id": "ALUyVqzzENyl",
        "colab": {
          "base_uri": "https://localhost:8080/"
        },
        "outputId": "8e39f95e-f865-4808-f6c1-12a5cdee5c00"
      },
      "outputs": [
        {
          "output_type": "stream",
          "name": "stdout",
          "text": [
            "Real pain recognition: [1 0]\n",
            "Predicted pain recognition: [1. 0.]\n",
            "\n",
            "Real pain intensity: [3.4444444]\n",
            "Predicted pain intensity: 2.347642421722412\n",
            "\n"
          ]
        }
      ],
      "source": [
        "randomNumber = random.randint(0, X_test.shape[0]-1)\n",
        "test = X_test[randomNumber]\n",
        "\n",
        "print(f'Real pain recognition: {y_class_test[randomNumber]}')\n",
        "print(f'Predicted pain recognition: {predicts_class[randomNumber].round()}\\n')\n",
        "print(f'Real pain intensity: {y_reg_test[randomNumber]}')\n",
        "print(f'Predicted pain intensity: {predicts_reg[randomNumber][0]}\\n')"
      ]
    }
  ],
  "metadata": {
    "accelerator": "GPU",
    "colab": {
      "collapsed_sections": [],
      "name": "PainRecognition_TransferLearning.ipynb",
      "provenance": []
    },
    "kernelspec": {
      "display_name": "Python 3",
      "name": "python3"
    },
    "language_info": {
      "name": "python"
    }
  },
  "nbformat": 4,
  "nbformat_minor": 0
}